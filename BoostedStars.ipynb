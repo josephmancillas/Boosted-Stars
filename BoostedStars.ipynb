{
  "cells": [
    {
      "cell_type": "markdown",
      "metadata": {
        "id": "3Uji66Rywssb"
      },
      "source": [
        "# **Boosted Stars**\n",
        "# Group Members\n",
        "*   Berkeley Lashley\n",
        "*   Joseph Mancillas\n",
        "*   Logan Hodgins\n",
        "*   Kassidy Kotulan\n"
      ]
    },
    {
      "cell_type": "markdown",
      "metadata": {
        "id": "fjZ9fsZZ4s1V"
      },
      "source": [
        "# Loading data into Pandas"
      ]
    },
    {
      "cell_type": "markdown",
      "metadata": {
        "id": "c6JZZF8L4Amb"
      },
      "source": [
        "Clone dataset from my github repo at https://github.com/LoganHodgins/ML_dataset/tree/main"
      ]
    },
    {
      "cell_type": "code",
      "execution_count": null,
      "metadata": {
        "colab": {
          "base_uri": "https://localhost:8080/"
        },
        "id": "VaxbVpk1xj1A",
        "outputId": "8d48f628-9de5-4dbe-baaa-97f9f679fe85"
      },
      "outputs": [
        {
          "name": "stdout",
          "output_type": "stream",
          "text": [
            "Cloning into 'ML_dataset'...\n",
            "remote: Enumerating objects: 15, done.\u001b[K\n",
            "remote: Counting objects: 100% (15/15), done.\u001b[K\n",
            "remote: Compressing objects: 100% (13/13), done.\u001b[K\n",
            "remote: Total 15 (delta 2), reused 0 (delta 0), pack-reused 0\u001b[K\n",
            "Unpacking objects: 100% (15/15), done.\n"
          ]
        }
      ],
      "source": [
        "!git clone https://github.com/LoganHodgins/ML_dataset.git"
      ]
    },
    {
      "cell_type": "markdown",
      "metadata": {
        "id": "asgeOmsq4bTq"
      },
      "source": [
        "See if repo was cloned correctly, you should see ML_dataset appear."
      ]
    },
    {
      "cell_type": "code",
      "execution_count": null,
      "metadata": {
        "colab": {
          "base_uri": "https://localhost:8080/"
        },
        "id": "IxsF0E084hwk",
        "outputId": "f816d47e-c189-4111-bc18-7736ff3a301a"
      },
      "outputs": [
        {
          "name": "stdout",
          "output_type": "stream",
          "text": [
            "ML_dataset  sample_data\n"
          ]
        }
      ],
      "source": [
        "!ls"
      ]
    },
    {
      "cell_type": "markdown",
      "metadata": {
        "id": "SOloEKyc4myv"
      },
      "source": [
        "Now lets load the data into a pandas data frame that can be used for all our different models."
      ]
    },
    {
      "cell_type": "code",
      "execution_count": null,
      "metadata": {
        "colab": {
          "base_uri": "https://localhost:8080/",
          "height": 243
        },
        "id": "Nkb6G7Dr450f",
        "outputId": "a066ba7a-b596-4d8a-e369-4e2a2461cc2b"
      },
      "outputs": [
        {
          "name": "stdout",
          "output_type": "stream",
          "text": [
            "Number of NAN values: 0\n",
            "Shape of data: (240, 7)\n"
          ]
        },
        {
          "data": {
            "text/html": [
              "<div>\n",
              "<style scoped>\n",
              "    .dataframe tbody tr th:only-of-type {\n",
              "        vertical-align: middle;\n",
              "    }\n",
              "\n",
              "    .dataframe tbody tr th {\n",
              "        vertical-align: top;\n",
              "    }\n",
              "\n",
              "    .dataframe thead th {\n",
              "        text-align: right;\n",
              "    }\n",
              "</style>\n",
              "<table border=\"1\" class=\"dataframe\">\n",
              "  <thead>\n",
              "    <tr style=\"text-align: right;\">\n",
              "      <th></th>\n",
              "      <th>Temperature (K)</th>\n",
              "      <th>Luminosity(L/Lo)</th>\n",
              "      <th>Radius(R/Ro)</th>\n",
              "      <th>Absolute magnitude(Mv)</th>\n",
              "      <th>Star type</th>\n",
              "      <th>Star color</th>\n",
              "      <th>Spectral Class</th>\n",
              "    </tr>\n",
              "  </thead>\n",
              "  <tbody>\n",
              "    <tr>\n",
              "      <th>0</th>\n",
              "      <td>3068</td>\n",
              "      <td>0.002400</td>\n",
              "      <td>0.1700</td>\n",
              "      <td>16.12</td>\n",
              "      <td>0</td>\n",
              "      <td>red</td>\n",
              "      <td>M</td>\n",
              "    </tr>\n",
              "    <tr>\n",
              "      <th>1</th>\n",
              "      <td>3042</td>\n",
              "      <td>0.000500</td>\n",
              "      <td>0.1542</td>\n",
              "      <td>16.60</td>\n",
              "      <td>0</td>\n",
              "      <td>red</td>\n",
              "      <td>M</td>\n",
              "    </tr>\n",
              "    <tr>\n",
              "      <th>2</th>\n",
              "      <td>2600</td>\n",
              "      <td>0.000300</td>\n",
              "      <td>0.1020</td>\n",
              "      <td>18.70</td>\n",
              "      <td>0</td>\n",
              "      <td>red</td>\n",
              "      <td>M</td>\n",
              "    </tr>\n",
              "    <tr>\n",
              "      <th>3</th>\n",
              "      <td>2800</td>\n",
              "      <td>0.000200</td>\n",
              "      <td>0.1600</td>\n",
              "      <td>16.65</td>\n",
              "      <td>0</td>\n",
              "      <td>red</td>\n",
              "      <td>M</td>\n",
              "    </tr>\n",
              "    <tr>\n",
              "      <th>4</th>\n",
              "      <td>1939</td>\n",
              "      <td>0.000138</td>\n",
              "      <td>0.1030</td>\n",
              "      <td>20.06</td>\n",
              "      <td>0</td>\n",
              "      <td>red</td>\n",
              "      <td>M</td>\n",
              "    </tr>\n",
              "  </tbody>\n",
              "</table>\n",
              "</div>"
            ],
            "text/plain": [
              "   Temperature (K)  Luminosity(L/Lo)  ...  Star color  Spectral Class\n",
              "0             3068          0.002400  ...         red               M\n",
              "1             3042          0.000500  ...         red               M\n",
              "2             2600          0.000300  ...         red               M\n",
              "3             2800          0.000200  ...         red               M\n",
              "4             1939          0.000138  ...         red               M\n",
              "\n",
              "[5 rows x 7 columns]"
            ]
          },
          "execution_count": 3,
          "metadata": {
            "tags": []
          },
          "output_type": "execute_result"
        }
      ],
      "source": [
        "import pandas as pd\n",
        "\n",
        "df = pd.read_csv('ML_dataset/6 class csv.csv')\n",
        "\n",
        "# Lets see if there is any NAN values\n",
        "print('Number of NAN values: {}'.format(df.isna().sum().sum()))\n",
        "\n",
        "# Lets see the shape of our data\n",
        "print('Shape of data: {}'.format(df.shape))\n",
        "\n",
        "# Good there is 0 NAN values, lets see what the head of the data looks like\n",
        "df.head()"
      ]
    },
    {
      "cell_type": "markdown",
      "metadata": {
        "id": "KH7UM6UN7734"
      },
      "source": [
        "From this point on our data set is loaded and can be used for different models. However, you need to create a copy of the dataset when you use it for your model, this way you don't create conflicts with other peoples models.\n",
        "\n",
        "Should look something like: `x = df.copy()`, this will create you own personal deep copy of the dataframe."
      ]
    },
    {
      "cell_type": "markdown",
      "metadata": {
        "id": "CWbxXLXDipmY"
      },
      "source": [
        "# SVM"
      ]
    },
    {
      "cell_type": "markdown",
      "metadata": {
        "id": "PASEkdmajg1s"
      },
      "source": [
        "Preparing the data for the SVM."
      ]
    },
    {
      "cell_type": "code",
      "execution_count": null,
      "metadata": {
        "id": "qDW1YTtgis9-"
      },
      "outputs": [],
      "source": [
        "from sklearn import preprocessing\n",
        "# First lets copy the dataframe to be used with the SVM model\n",
        "x = df.copy()\n",
        "\n",
        "# Create a column containing our target variable\n",
        "y = x['Star type'].values\n",
        "\n",
        "# Remove Star type column from x\n",
        "x.drop(columns=['Star type'], inplace=True)\n",
        "\n",
        "\n",
        "# Create dummy variables\n",
        "dummies = pd.get_dummies(x[['Star color', 'Spectral Class']])\n",
        "x.drop(columns=['Star color', 'Spectral Class'], axis=1, inplace=True)\n",
        "\n",
        "# Normalize x\n",
        "x = (x - x.mean()) / (x.max() - x.min())\n",
        "\n",
        "# Add dummy variables\n",
        "x = pd.concat([x, dummies], axis=1)\n",
        "\n",
        "# Create a dataset with no temperature\n",
        "x_notemp = x.drop(columns=['Temperature (K)'])\n",
        "\n",
        "# Create a dataset with no Absolute magnitude\n",
        "x_nomag = x.drop(columns=['Absolute magnitude(Mv)'])"
      ]
    },
    {
      "cell_type": "markdown",
      "metadata": {
        "id": "vvEqWvhYoJju"
      },
      "source": [
        "Next we are going to use best subset selection to find the best subset of predictors that contain two variables."
      ]
    },
    {
      "cell_type": "code",
      "execution_count": null,
      "metadata": {
        "id": "NnUgwE9gopL6"
      },
      "outputs": [],
      "source": [
        "from sklearn.svm import SVC\n",
        "from sklearn.model_selection import GridSearchCV\n",
        "import time\n",
        "import itertools\n",
        "\n",
        "def processSubset(feature_set, x, y):\n",
        "  model = SVC(kernel='rbf', gamma='auto', decision_function_shape='ovo')\n",
        "  parameters = [{'C': [0.01, 0.1, 1, 10, 100], 'gamma': [0.5, 1,2,3,4]}]\n",
        "  # Use grid seach cross validation to find the best paramets for the model\n",
        "  model = GridSearchCV(model, parameters, cv=10, scoring='accuracy')\n",
        "  model.fit(x[list(feature_set)].values, y)\n",
        "  return {'model':model.best_params_, 'score':model.best_score_, 'combo': feature_set, 'fitted_model':model.best_estimator_}"
      ]
    },
    {
      "cell_type": "code",
      "execution_count": null,
      "metadata": {
        "id": "admdpiq41Xk0"
      },
      "outputs": [],
      "source": [
        "# Get the best subset of 2 predictors without temperature\n",
        "results = []\n",
        "\n",
        "for combo in itertools.combinations(x_notemp.columns, 2):\n",
        "  results.append(processSubset(combo, x_notemp, y))\n",
        "\n",
        "models = pd.DataFrame(results)\n",
        "best_model = models.loc[models['score'].idxmax()]\n",
        "\n",
        "# Dataframe to hold all best models\n",
        "df_model = pd.DataFrame([best_model])"
      ]
    },
    {
      "cell_type": "code",
      "execution_count": null,
      "metadata": {
        "id": "AL1PL9MGMiG9"
      },
      "outputs": [],
      "source": [
        "# Get the best subset of 2 predictors without Magnitude\n",
        "results = []\n",
        "\n",
        "for combo in itertools.combinations(x_nomag.columns, 2):\n",
        "  results.append(processSubset(combo, x_nomag, y))\n",
        "\n",
        "models = pd.DataFrame(results)\n",
        "best_model = models.loc[models['score'].idxmax()]\n",
        "\n",
        "df_model = df_model.append(best_model)"
      ]
    },
    {
      "cell_type": "code",
      "execution_count": null,
      "metadata": {
        "colab": {
          "base_uri": "https://localhost:8080/",
          "height": 193
        },
        "id": "OO8U-x0EQNWb",
        "outputId": "9ed6b94d-bcb8-4925-db19-165f80f91c5e"
      },
      "outputs": [
        {
          "data": {
            "text/html": [
              "<div>\n",
              "<style scoped>\n",
              "    .dataframe tbody tr th:only-of-type {\n",
              "        vertical-align: middle;\n",
              "    }\n",
              "\n",
              "    .dataframe tbody tr th {\n",
              "        vertical-align: top;\n",
              "    }\n",
              "\n",
              "    .dataframe thead th {\n",
              "        text-align: right;\n",
              "    }\n",
              "</style>\n",
              "<table border=\"1\" class=\"dataframe\">\n",
              "  <thead>\n",
              "    <tr style=\"text-align: right;\">\n",
              "      <th></th>\n",
              "      <th>model</th>\n",
              "      <th>score</th>\n",
              "      <th>combo</th>\n",
              "      <th>fitted_model</th>\n",
              "    </tr>\n",
              "  </thead>\n",
              "  <tbody>\n",
              "    <tr>\n",
              "      <th>0</th>\n",
              "      <td>{'C': 100, 'gamma': 2}</td>\n",
              "      <td>0.991667</td>\n",
              "      <td>(Absolute magnitude(Mv), Star color_red)</td>\n",
              "      <td>SVC(C=100, break_ties=False, cache_size=200, c...</td>\n",
              "    </tr>\n",
              "    <tr>\n",
              "      <th>1</th>\n",
              "      <td>{'C': 100, 'gamma': 3}</td>\n",
              "      <td>0.770833</td>\n",
              "      <td>(Radius(R/Ro), Star color_orange)</td>\n",
              "      <td>SVC(C=100, break_ties=False, cache_size=200, c...</td>\n",
              "    </tr>\n",
              "    <tr>\n",
              "      <th>2</th>\n",
              "      <td>{'C': 100, 'gamma': 1}</td>\n",
              "      <td>0.987500</td>\n",
              "      <td>(Temperature (K), Absolute magnitude(Mv))</td>\n",
              "      <td>SVC(C=100, break_ties=False, cache_size=200, c...</td>\n",
              "    </tr>\n",
              "  </tbody>\n",
              "</table>\n",
              "</div>"
            ],
            "text/plain": [
              "                    model  ...                                       fitted_model\n",
              "0  {'C': 100, 'gamma': 2}  ...  SVC(C=100, break_ties=False, cache_size=200, c...\n",
              "1  {'C': 100, 'gamma': 3}  ...  SVC(C=100, break_ties=False, cache_size=200, c...\n",
              "2  {'C': 100, 'gamma': 1}  ...  SVC(C=100, break_ties=False, cache_size=200, c...\n",
              "\n",
              "[3 rows x 4 columns]"
            ]
          },
          "execution_count": 186,
          "metadata": {
            "tags": []
          },
          "output_type": "execute_result"
        }
      ],
      "source": [
        "# Lets find out the best parameters for the SVM built using the HR-features\n",
        "\n",
        "best_HR = processSubset(('Temperature (K)', 'Absolute magnitude(Mv)'), x, y)\n",
        "\n",
        "best_HR = pd.Series(best_HR)\n",
        "df_model = df_model.append(best_HR, ignore_index=True)\n",
        "\n",
        "# All best generated models\n",
        "df_model.head()"
      ]
    },
    {
      "cell_type": "markdown",
      "metadata": {
        "id": "9P1hJVxRPINN"
      },
      "source": [
        "Lets plot the decision boundary for both models to see how they compare to the HR-feature model"
      ]
    },
    {
      "cell_type": "code",
      "execution_count": null,
      "metadata": {
        "id": "1QSTW1tmVUdB"
      },
      "outputs": [],
      "source": [
        "import matplotlib.pyplot as plt\n",
        "import numpy as np\n",
        "\n",
        "def plot(svc, features, y, ax, h=0.02, pad=0.25):\n",
        "  X = x[list(features)].values\n",
        "  x_min, x_max = X[:, 0].min()-pad, X[:, 0].max()+pad\n",
        "  y_min, y_max = X[:, 1].min()-pad, X[:, 1].max()+pad\n",
        "  xx, yy = np.meshgrid(np.arange(x_min, x_max, h), np.arange(y_min, y_max, h))\n",
        "  z = svc.predict(np.c_[xx.ravel(), yy.ravel()])\n",
        "  z = z.reshape(xx.shape)\n",
        "\n",
        "  ax.contourf(xx, yy, z, cmap=plt.cm.Accent, alpha=0.2)\n",
        "\n",
        "  ax.scatter(X[:,0], X[:,1], c=y, cmap=plt.cm.Accent)\n",
        "  ax.set_xlabel(features[0])\n",
        "  ax.set_ylabel(features[1])"
      ]
    },
    {
      "cell_type": "code",
      "execution_count": null,
      "metadata": {
        "colab": {
          "base_uri": "https://localhost:8080/",
          "height": 335
        },
        "id": "r5r2qsZjPVzm",
        "outputId": "8efde4ba-316b-42b7-a9ce-47383bd04177"
      },
      "outputs": [
        {
          "data": {
            "image/png": "[encoded data removed]",
            "text/plain": [
              "<Figure size 1008x504 with 3 Axes>"
            ]
          },
          "metadata": {
            "tags": []
          },
          "output_type": "display_data"
        }
      ],
      "source": [
        "from sklearn.model_selection import cross_val_predict\n",
        "\n",
        "\n",
        "# HR SVC model (Temperature (K), Absolute magnitude(Mv))\n",
        "HR_svc = df_model['fitted_model'].iloc[2]\n",
        "\n",
        "# best model without temperature (Absolute magnitude(Mv), Star color_red)\n",
        "notemp_svc = df_model['fitted_model'].iloc[0]\n",
        "\n",
        "# best model without magnitude (Radius(R/Ro), Star color_orange)\n",
        "nomag_svc = df_model['fitted_model'].iloc[1]\n",
        "\n",
        "fig, (ax1, ax2, ax3) = plt.subplots(1, 3)\n",
        "\n",
        "fig.set_size_inches(14, 7)\n",
        "\n",
        "# plot HR model\n",
        "plot(HR_svc, ['Temperature (K)', 'Absolute magnitude(Mv)'], y, ax1)\n",
        "\n",
        "# plot the best model without temperature\n",
        "plot(notemp_svc, ['Absolute magnitude(Mv)', 'Star color_red'], y, ax2)\n",
        "\n",
        "# plot the best model without mangitude\n",
        "plot(nomag_svc, ['Radius(R/Ro)', 'Star color_orange'], y, ax3)\n"
      ]
    },
    {
      "cell_type": "markdown",
      "metadata": {
        "id": "jef6H78klzgT"
      },
      "source": [
        "Lets get the precision, recall, and accuracy for each trained model"
      ]
    },
    {
      "cell_type": "code",
      "execution_count": null,
      "metadata": {
        "id": "ymruL29vGFcm"
      },
      "outputs": [],
      "source": [
        "import seaborn as sns\n",
        "def plot_matrix(cm, title, ax):\n",
        "  labels = ['Brown Dwarf', 'Red Dwarf', 'White Dwarf', \n",
        "            'Main Seq', 'Supergiant', 'Hypergiant']\n",
        "  sns.heatmap(cm, annot=True, ax=ax, cmap='Greys')\n",
        "  ax.set_title(title)\n",
        "  ax.set_xlabel('Predicted labels')\n",
        "  ax.set_ylabel('True labels')\n",
        "  ax.xaxis.set_ticklabels(labels)\n",
        "  ax.yaxis.set_ticklabels(labels)"
      ]
    },
    {
      "cell_type": "code",
      "execution_count": null,
      "metadata": {
        "colab": {
          "base_uri": "https://localhost:8080/",
          "height": 976
        },
        "id": "VqkNYmO_mUxk",
        "outputId": "208248be-e36a-4b51-92a8-abe7be0695bf"
      },
      "outputs": [
        {
          "data": {
            "image/png": "[encoded data removed]",
            "text/plain": [
              "<Figure size 1872x576 with 6 Axes>"
            ]
          },
          "metadata": {
            "tags": []
          },
          "output_type": "display_data"
        },
        {
          "name": "stdout",
          "output_type": "stream",
          "text": [
            "Classification report for HR-SVC\n",
            "              precision    recall  f1-score   support\n",
            "\n",
            "           0     1.0000    1.0000    1.0000        40\n",
            "           1     1.0000    1.0000    1.0000        40\n",
            "           2     1.0000    1.0000    1.0000        40\n",
            "           3     0.9756    1.0000    0.9877        40\n",
            "           4     0.9512    0.9750    0.9630        40\n",
            "           5     1.0000    0.9500    0.9744        40\n",
            "\n",
            "    accuracy                         0.9875       240\n",
            "   macro avg     0.9878    0.9875    0.9875       240\n",
            "weighted avg     0.9878    0.9875    0.9875       240\n",
            "\n",
            "-------------------------------------------------------\n",
            "Classification report for NoTemp-SVC\n",
            "              precision    recall  f1-score   support\n",
            "\n",
            "           0     1.0000    1.0000    1.0000        40\n",
            "           1     1.0000    1.0000    1.0000        40\n",
            "           2     1.0000    1.0000    1.0000        40\n",
            "           3     1.0000    1.0000    1.0000        40\n",
            "           4     0.9070    0.9750    0.9398        40\n",
            "           5     0.9730    0.9000    0.9351        40\n",
            "\n",
            "    accuracy                         0.9792       240\n",
            "   macro avg     0.9800    0.9792    0.9791       240\n",
            "weighted avg     0.9800    0.9792    0.9791       240\n",
            "\n",
            "-------------------------------------------------------\n",
            "Classification report for NoMag-SVC\n",
            "              precision    recall  f1-score   support\n",
            "\n",
            "           0     0.5652    0.9750    0.7156        40\n",
            "           1     0.3704    0.2500    0.2985        40\n",
            "           2     0.9756    1.0000    0.9877        40\n",
            "           3     0.6389    0.5750    0.6053        40\n",
            "           4     1.0000    0.6750    0.8060        40\n",
            "           5     1.0000    1.0000    1.0000        40\n",
            "\n",
            "    accuracy                         0.7458       240\n",
            "   macro avg     0.7583    0.7458    0.7355       240\n",
            "weighted avg     0.7583    0.7458    0.7355       240\n",
            "\n"
          ]
        }
      ],
      "source": [
        "from sklearn.metrics import confusion_matrix, classification_report\n",
        "from sklearn.model_selection import cross_val_predict\n",
        "\n",
        "HR_pred = cross_val_predict(HR_svc, x[['Temperature (K)', 'Absolute magnitude(Mv)']].values, y, cv=10)\n",
        "NoTemp_pred = cross_val_predict(HR_svc, x[['Absolute magnitude(Mv)', 'Star color_red']].values, y, cv=10)\n",
        "NoMag_pred = cross_val_predict(HR_svc, x[['Radius(R/Ro)', 'Star color_orange']].values, y, cv=10)\n",
        "\n",
        "fig = plt.figure(figsize=(26, 8))\n",
        "\n",
        "ax = plt.subplot(1, 3, 1)\n",
        "plot_matrix(confusion_matrix(y, HR_pred), 'Confusion matrix for HR-SVC', ax)\n",
        "fig.add_subplot(ax)\n",
        "\n",
        "ax = plt.subplot(1, 3, 2)\n",
        "plot_matrix(confusion_matrix(y, NoTemp_pred), 'Confusion matrix for NoTemp-SVC', ax)\n",
        "fig.add_subplot(ax)\n",
        "\n",
        "ax = plt.subplot(1, 3, 3)\n",
        "plot_matrix(confusion_matrix(y, NoMag_pred), 'Confusion matrix for NoMag-SVC', ax)\n",
        "fig.add_subplot(ax)\n",
        "\n",
        "plt.show()\n",
        "\n",
        "# precision, recall, and f1-score for HR-SVC\n",
        "print('Classification report for HR-SVC')\n",
        "print(classification_report(y, HR_pred, digits=4))\n",
        "print('-------------------------------------------------------')\n",
        "\n",
        "# precision, recall, and f1-score for NoTemp-SVC\n",
        "print('Classification report for NoTemp-SVC')\n",
        "print(classification_report(y, NoTemp_pred, digits=4))\n",
        "print('-------------------------------------------------------')\n",
        "\n",
        "# precision, recall, and f1-score for NoMag-SVC\n",
        "print('Classification report for NoMag-SVC')\n",
        "print(classification_report(y, NoMag_pred, digits=4))"
      ]
    },
    {
      "cell_type": "markdown",
      "metadata": {
        "id": "xzu3z1W91oHx"
      },
      "source": [
        "# Random Forest Without HR Diagram Predictors"
      ]
    },
    {
      "cell_type": "markdown",
      "metadata": {
        "id": "i35whsy41s7S"
      },
      "source": [
        "Preparing the data for Random Forest. First will use dataset with non HR diagram predictors."
      ]
    },
    {
      "cell_type": "code",
      "execution_count": null,
      "metadata": {
        "colab": {
          "base_uri": "https://localhost:8080/"
        },
        "id": "_bLF4r9o1rjk",
        "outputId": "e8b9667c-c652-491f-e1fc-24a42f8288c9"
      },
      "outputs": [
        {
          "data": {
            "text/html": [
              "<div>\n",
              "<style scoped>\n",
              "    .dataframe tbody tr th:only-of-type {\n",
              "        vertical-align: middle;\n",
              "    }\n",
              "\n",
              "    .dataframe tbody tr th {\n",
              "        vertical-align: top;\n",
              "    }\n",
              "\n",
              "    .dataframe thead th {\n",
              "        text-align: right;\n",
              "    }\n",
              "</style>\n",
              "<table border=\"1\" class=\"dataframe\">\n",
              "  <thead>\n",
              "    <tr style=\"text-align: right;\">\n",
              "      <th></th>\n",
              "      <th>Luminosity(L/Lo)</th>\n",
              "      <th>Radius(R/Ro)</th>\n",
              "      <th>SpC-A</th>\n",
              "      <th>SpC-B</th>\n",
              "      <th>SpC-F</th>\n",
              "      <th>SpC-G</th>\n",
              "      <th>SpC-K</th>\n",
              "      <th>SpC-M</th>\n",
              "      <th>SpC-O</th>\n",
              "      <th>SC-blue</th>\n",
              "      <th>SC-blue-white</th>\n",
              "      <th>SC-orange</th>\n",
              "      <th>SC-orange-red</th>\n",
              "      <th>SC-red</th>\n",
              "      <th>SC-white</th>\n",
              "      <th>SC-yellow</th>\n",
              "      <th>SC-yellow-white</th>\n",
              "    </tr>\n",
              "  </thead>\n",
              "  <tbody>\n",
              "    <tr>\n",
              "      <th>0</th>\n",
              "      <td>0.002400</td>\n",
              "      <td>0.1700</td>\n",
              "      <td>0</td>\n",
              "      <td>0</td>\n",
              "      <td>0</td>\n",
              "      <td>0</td>\n",
              "      <td>0</td>\n",
              "      <td>1</td>\n",
              "      <td>0</td>\n",
              "      <td>0</td>\n",
              "      <td>0</td>\n",
              "      <td>0</td>\n",
              "      <td>0</td>\n",
              "      <td>1</td>\n",
              "      <td>0</td>\n",
              "      <td>0</td>\n",
              "      <td>0</td>\n",
              "    </tr>\n",
              "    <tr>\n",
              "      <th>1</th>\n",
              "      <td>0.000500</td>\n",
              "      <td>0.1542</td>\n",
              "      <td>0</td>\n",
              "      <td>0</td>\n",
              "      <td>0</td>\n",
              "      <td>0</td>\n",
              "      <td>0</td>\n",
              "      <td>1</td>\n",
              "      <td>0</td>\n",
              "      <td>0</td>\n",
              "      <td>0</td>\n",
              "      <td>0</td>\n",
              "      <td>0</td>\n",
              "      <td>1</td>\n",
              "      <td>0</td>\n",
              "      <td>0</td>\n",
              "      <td>0</td>\n",
              "    </tr>\n",
              "    <tr>\n",
              "      <th>2</th>\n",
              "      <td>0.000300</td>\n",
              "      <td>0.1020</td>\n",
              "      <td>0</td>\n",
              "      <td>0</td>\n",
              "      <td>0</td>\n",
              "      <td>0</td>\n",
              "      <td>0</td>\n",
              "      <td>1</td>\n",
              "      <td>0</td>\n",
              "      <td>0</td>\n",
              "      <td>0</td>\n",
              "      <td>0</td>\n",
              "      <td>0</td>\n",
              "      <td>1</td>\n",
              "      <td>0</td>\n",
              "      <td>0</td>\n",
              "      <td>0</td>\n",
              "    </tr>\n",
              "    <tr>\n",
              "      <th>3</th>\n",
              "      <td>0.000200</td>\n",
              "      <td>0.1600</td>\n",
              "      <td>0</td>\n",
              "      <td>0</td>\n",
              "      <td>0</td>\n",
              "      <td>0</td>\n",
              "      <td>0</td>\n",
              "      <td>1</td>\n",
              "      <td>0</td>\n",
              "      <td>0</td>\n",
              "      <td>0</td>\n",
              "      <td>0</td>\n",
              "      <td>0</td>\n",
              "      <td>1</td>\n",
              "      <td>0</td>\n",
              "      <td>0</td>\n",
              "      <td>0</td>\n",
              "    </tr>\n",
              "    <tr>\n",
              "      <th>4</th>\n",
              "      <td>0.000138</td>\n",
              "      <td>0.1030</td>\n",
              "      <td>0</td>\n",
              "      <td>0</td>\n",
              "      <td>0</td>\n",
              "      <td>0</td>\n",
              "      <td>0</td>\n",
              "      <td>1</td>\n",
              "      <td>0</td>\n",
              "      <td>0</td>\n",
              "      <td>0</td>\n",
              "      <td>0</td>\n",
              "      <td>0</td>\n",
              "      <td>1</td>\n",
              "      <td>0</td>\n",
              "      <td>0</td>\n",
              "      <td>0</td>\n",
              "    </tr>\n",
              "  </tbody>\n",
              "</table>\n",
              "</div>"
            ],
            "text/plain": [
              "   Luminosity(L/Lo)  Radius(R/Ro)  SpC-A  ...  SC-white  SC-yellow  SC-yellow-white\n",
              "0          0.002400        0.1700      0  ...         0          0                0\n",
              "1          0.000500        0.1542      0  ...         0          0                0\n",
              "2          0.000300        0.1020      0  ...         0          0                0\n",
              "3          0.000200        0.1600      0  ...         0          0                0\n",
              "4          0.000138        0.1030      0  ...         0          0                0\n",
              "\n",
              "[5 rows x 17 columns]"
            ]
          },
          "execution_count": 195,
          "metadata": {
            "tags": []
          },
          "output_type": "execute_result"
        }
      ],
      "source": [
        "X = df.copy()\n",
        "Y = X['Star type']\n",
        "X = X.drop(columns=['Star type','Absolute magnitude(Mv)','Temperature (K)'])\n",
        "X = pd.get_dummies(X, columns=['Spectral Class'],prefix='SpC',prefix_sep='-')\n",
        "X = pd.get_dummies(X, columns=['Star color'],prefix='SC',prefix_sep='-')\n",
        "X.head()"
      ]
    },
    {
      "cell_type": "markdown",
      "metadata": {
        "id": "M7uTu6ue121L"
      },
      "source": [
        "Let's create a random forest classifier using mostly default parameters"
      ]
    },
    {
      "cell_type": "code",
      "execution_count": null,
      "metadata": {
        "colab": {
          "base_uri": "https://localhost:8080/"
        },
        "id": "8Yn4KK3H13jS",
        "outputId": "057db7f6-866b-4106-f6cf-78cd166f0a9f"
      },
      "outputs": [
        {
          "name": "stdout",
          "output_type": "stream",
          "text": [
            "Out of Bag score:  0.9666666666666667\n",
            "Confusion Matrix:\n",
            " AxesSubplot(0.125,0.125;0.62x0.755)\n"
          ]
        },
        {
          "data": {
            "image/png": "[encoded data removed]",
            "text/plain": [
              "<Figure size 432x288 with 2 Axes>"
            ]
          },
          "metadata": {
            "tags": []
          },
          "output_type": "display_data"
        }
      ],
      "source": [
        "from sklearn.ensemble import RandomForestClassifier\n",
        "from sklearn.metrics import confusion_matrix\n",
        "import seaborn as sns\n",
        "import numpy as np\n",
        "#the only parameter we are changin is oob_Score to true so that the out of bag score is computed\n",
        "forestDefault = RandomForestClassifier(oob_score=True)\n",
        "\n",
        "#The random forest classifer does bootstrapping so we can fit on the entire dataset and use the out of bag observations\n",
        "forestDefault.fit(X,Y)\n",
        "print(\"Out of Bag score: \",forestDefault.oob_score_)\n",
        "\n",
        "#There is no provided predictions list by the classifier so we must create our own to find metrics\n",
        "predictions= np.empty(shape=Y.shape)\n",
        "observationCounter=0\n",
        "for observation in forestDefault.oob_decision_function_:\n",
        "  #Predict that star is class of highest probability\n",
        "  #If a tie occurs the first class in the array wins\n",
        "  observation = observation.tolist()\n",
        "  predictions[observationCounter] = observation.index(max(observation))\n",
        "  observationCounter += 1\n",
        "\n",
        "#confusion matrx\n",
        "confusionMatrix = confusion_matrix(Y,predictions)\n",
        "seabornmap = sns.heatmap(confusionMatrix,annot=True,\n",
        "      xticklabels=['Brown Dwarf','Red Dwarf','White Dwarf','Main Sequence','Supergiant','Hypergiant'],\n",
        "      yticklabels=['Brown Dwarf','Red Dwarf','White Dwarf','Main Sequence','Supergiant','Hypergiant'])\n",
        "print(\"Confusion Matrix:\\n\",seabornmap)"
      ]
    },
    {
      "cell_type": "markdown",
      "metadata": {
        "id": "k6wsfJu31-2U"
      },
      "source": [
        "It looks like we are getting good OOB scores, but everytime we run the code we will get a different score due to the randomness of the bootstrapping and the randomness of predictors. So let's find and average OOB we can compare with."
      ]
    },
    {
      "cell_type": "code",
      "execution_count": null,
      "metadata": {
        "colab": {
          "base_uri": "https://localhost:8080/"
        },
        "id": "TBe-Ameq2Ai_",
        "outputId": "62cb4b35-73c9-4432-8c4f-162a2283a26d"
      },
      "outputs": [
        {
          "name": "stdout",
          "output_type": "stream",
          "text": [
            "Average OOB Score:  0.9677805280528052\n"
          ]
        }
      ],
      "source": [
        "import statistics\n",
        "from statistics import mean\n",
        "#Let's do this 100 times\n",
        "OOBscores = []\n",
        "for i in range(101):\n",
        "  forestDefault.fit(X,Y)\n",
        "  OOBscores.append(forestDefault.oob_score_)\n",
        "averageOOB = mean(OOBscores)\n",
        "\n",
        "print(\"Average OOB Score: \", averageOOB)"
      ]
    },
    {
      "cell_type": "markdown",
      "metadata": {
        "id": "2IMp0TPQ2DQQ"
      },
      "source": [
        "We have a preety good average score of ~96%, so is our job done? Let's first look at our trees."
      ]
    },
    {
      "cell_type": "code",
      "execution_count": null,
      "metadata": {
        "id": "vLrcYghC2EMd"
      },
      "outputs": [],
      "source": [
        "import graphviz\n",
        "from sklearn.tree import export_graphviz\n",
        "\n",
        "counter =0\n",
        "for x in forestDefault.estimators_: \n",
        "  export_graphviz(forestDefault.estimators_[counter], \n",
        "                out_file = \"forestDefault{counter}.dot\".format(counter = counter), \n",
        "                feature_names = X.columns)\n",
        "  counter+= 1"
      ]
    },
    {
      "cell_type": "code",
      "execution_count": null,
      "metadata": {
        "colab": {
          "base_uri": "https://localhost:8080/"
        },
        "id": "i0JTiHBc2ZkP",
        "outputId": "d7bdf248-6079-4712-ad34-7333cbf47304"
      },
      "outputs": [
        {
          "data": {
            "image/svg+xml": "<?xml version=\"1.0\" encoding=\"UTF-8\" standalone=\"no\"?>\n<!DOCTYPE svg PUBLIC \"-//W3C//DTD SVG 1.1//EN\"\n \"http://www.w3.org/Graphics/SVG/1.1/DTD/svg11.dtd\">\n<!-- Generated by graphviz version 2.40.1 (20161225.0304)\n -->\n<!-- Title: Tree Pages: 1 -->\n<svg width=\"2379pt\" height=\"893pt\"\n viewBox=\"0.00 0.00 2378.50 893.00\" xmlns=\"http://www.w3.org/2000/svg\" xmlns:xlink=\"http://www.w3.org/1999/xlink\">\n<g id=\"graph0\" class=\"graph\" transform=\"scale(1 1) rotate(0) translate(4 889)\">\n<title>Tree</title>\n<polygon fill=\"#ffffff\" stroke=\"transparent\" points=\"-4,4 -4,-889 2374.5,-889 2374.5,4 -4,4\"/>\n<!-- 0 -->\n<g id=\"node1\" class=\"node\">\n<title>0</title>\n<polygon fill=\"none\" stroke=\"#000000\" points=\"1738,-885 1538,-885 1538,-817 1738,-817 1738,-885\"/>\n<text text-anchor=\"middle\" x=\"1638\" y=\"-869.8\" font-family=\"Times,serif\" font-size=\"14.00\" fill=\"#000000\">SpC&#45;B &lt;= 0.5</text>\n<text text-anchor=\"middle\" x=\"1638\" y=\"-854.8\" font-family=\"Times,serif\" font-size=\"14.00\" fill=\"#000000\">gini = 0.829</text>\n<text text-anchor=\"middle\" x=\"1638\" y=\"-839.8\" font-family=\"Times,serif\" font-size=\"14.00\" fill=\"#000000\">samples = 151</text>\n<text text-anchor=\"middle\" x=\"1638\" y=\"-824.8\" font-family=\"Times,serif\" font-size=\"14.00\" fill=\"#000000\">value = [36, 49, 46, 42, 34, 33]</text>\n</g>\n<!-- 1 -->\n<g id=\"node2\" class=\"node\">\n<title>1</title>\n<polygon fill=\"none\" stroke=\"#000000\" points=\"1536,-781 1336,-781 1336,-713 1536,-713 1536,-781\"/>\n<text text-anchor=\"middle\" x=\"1436\" y=\"-765.8\" font-family=\"Times,serif\" font-size=\"14.00\" fill=\"#000000\">Luminosity(L/Lo) &lt;= 0.062</text>\n<text text-anchor=\"middle\" x=\"1436\" y=\"-750.8\" font-family=\"Times,serif\" font-size=\"14.00\" fill=\"#000000\">gini = 0.822</text>\n<text text-anchor=\"middle\" x=\"1436\" y=\"-735.8\" font-family=\"Times,serif\" font-size=\"14.00\" fill=\"#000000\">samples = 122</text>\n<text text-anchor=\"middle\" x=\"1436\" y=\"-720.8\" font-family=\"Times,serif\" font-size=\"14.00\" fill=\"#000000\">value = [36, 49, 24, 27, 32, 27]</text>\n</g>\n<!-- 0&#45;&gt;1 -->\n<g id=\"edge1\" class=\"edge\">\n<title>0&#45;&gt;1</title>\n<path fill=\"none\" stroke=\"#000000\" d=\"M1571.8576,-816.9465C1552.5003,-806.9803 1531.1958,-796.0117 1511.3138,-785.7754\"/>\n<polygon fill=\"#000000\" stroke=\"#000000\" points=\"1512.7839,-782.5957 1502.291,-781.13 1509.5797,-788.8193 1512.7839,-782.5957\"/>\n<text text-anchor=\"middle\" x=\"1509.916\" y=\"-801.2388\" font-family=\"Times,serif\" font-size=\"14.00\" fill=\"#000000\">True</text>\n</g>\n<!-- 46 -->\n<g id=\"node47\" class=\"node\">\n<title>46</title>\n<polygon fill=\"none\" stroke=\"#000000\" points=\"1825,-781 1655,-781 1655,-713 1825,-713 1825,-781\"/>\n<text text-anchor=\"middle\" x=\"1740\" y=\"-765.8\" font-family=\"Times,serif\" font-size=\"14.00\" fill=\"#000000\">SC&#45;white &lt;= 0.5</text>\n<text text-anchor=\"middle\" x=\"1740\" y=\"-750.8\" font-family=\"Times,serif\" font-size=\"14.00\" fill=\"#000000\">gini = 0.63</text>\n<text text-anchor=\"middle\" x=\"1740\" y=\"-735.8\" font-family=\"Times,serif\" font-size=\"14.00\" fill=\"#000000\">samples = 29</text>\n<text text-anchor=\"middle\" x=\"1740\" y=\"-720.8\" font-family=\"Times,serif\" font-size=\"14.00\" fill=\"#000000\">value = [0, 0, 22, 15, 2, 6]</text>\n</g>\n<!-- 0&#45;&gt;46 -->\n<g id=\"edge46\" class=\"edge\">\n<title>0&#45;&gt;46</title>\n<path fill=\"none\" stroke=\"#000000\" d=\"M1671.3986,-816.9465C1680.3806,-807.7884 1690.1928,-797.7838 1699.515,-788.2788\"/>\n<polygon fill=\"#000000\" stroke=\"#000000\" points=\"1702.023,-790.7201 1706.5263,-781.13 1697.0254,-785.8187 1702.023,-790.7201\"/>\n<text text-anchor=\"middle\" x=\"1706.7691\" y=\"-802.4288\" font-family=\"Times,serif\" font-size=\"14.00\" fill=\"#000000\">False</text>\n</g>\n<!-- 2 -->\n<g id=\"node3\" class=\"node\">\n<title>2</title>\n<polygon fill=\"none\" stroke=\"#000000\" points=\"731.5,-677 554.5,-677 554.5,-609 731.5,-609 731.5,-677\"/>\n<text text-anchor=\"middle\" x=\"643\" y=\"-661.8\" font-family=\"Times,serif\" font-size=\"14.00\" fill=\"#000000\">Radius(R/Ro) &lt;= 0.136</text>\n<text text-anchor=\"middle\" x=\"643\" y=\"-646.8\" font-family=\"Times,serif\" font-size=\"14.00\" fill=\"#000000\">gini = 0.64</text>\n<text text-anchor=\"middle\" x=\"643\" y=\"-631.8\" font-family=\"Times,serif\" font-size=\"14.00\" fill=\"#000000\">samples = 64</text>\n<text text-anchor=\"middle\" x=\"643\" y=\"-616.8\" font-family=\"Times,serif\" font-size=\"14.00\" fill=\"#000000\">value = [36, 49, 24, 0, 0, 0]</text>\n</g>\n<!-- 1&#45;&gt;2 -->\n<g id=\"edge2\" class=\"edge\">\n<title>1&#45;&gt;2</title>\n<path fill=\"none\" stroke=\"#000000\" d=\"M1335.9678,-733.881C1183.3336,-713.8634 894.0374,-675.9229 742.0138,-655.9854\"/>\n<polygon fill=\"#000000\" stroke=\"#000000\" points=\"742.1256,-652.4702 731.7554,-654.64 741.2153,-659.4108 742.1256,-652.4702\"/>\n</g>\n<!-- 21 -->\n<g id=\"node22\" class=\"node\">\n<title>21</title>\n<polygon fill=\"none\" stroke=\"#000000\" points=\"1524.5,-677 1347.5,-677 1347.5,-609 1524.5,-609 1524.5,-677\"/>\n<text text-anchor=\"middle\" x=\"1436\" y=\"-661.8\" font-family=\"Times,serif\" font-size=\"14.00\" fill=\"#000000\">SC&#45;blue &lt;= 0.5</text>\n<text text-anchor=\"middle\" x=\"1436\" y=\"-646.8\" font-family=\"Times,serif\" font-size=\"14.00\" fill=\"#000000\">gini = 0.664</text>\n<text text-anchor=\"middle\" x=\"1436\" y=\"-631.8\" font-family=\"Times,serif\" font-size=\"14.00\" fill=\"#000000\">samples = 58</text>\n<text text-anchor=\"middle\" x=\"1436\" y=\"-616.8\" font-family=\"Times,serif\" font-size=\"14.00\" fill=\"#000000\">value = [0, 0, 0, 27, 32, 27]</text>\n</g>\n<!-- 1&#45;&gt;21 -->\n<g id=\"edge21\" class=\"edge\">\n<title>1&#45;&gt;21</title>\n<path fill=\"none\" stroke=\"#000000\" d=\"M1436,-712.9465C1436,-704.776 1436,-695.9318 1436,-687.3697\"/>\n<polygon fill=\"#000000\" stroke=\"#000000\" points=\"1439.5001,-687.13 1436,-677.13 1432.5001,-687.13 1439.5001,-687.13\"/>\n</g>\n<!-- 3 -->\n<g id=\"node4\" class=\"node\">\n<title>3</title>\n<polygon fill=\"none\" stroke=\"#000000\" points=\"355,-573 185,-573 185,-505 355,-505 355,-573\"/>\n<text text-anchor=\"middle\" x=\"270\" y=\"-557.8\" font-family=\"Times,serif\" font-size=\"14.00\" fill=\"#000000\">SC&#45;red &lt;= 0.5</text>\n<text text-anchor=\"middle\" x=\"270\" y=\"-542.8\" font-family=\"Times,serif\" font-size=\"14.00\" fill=\"#000000\">gini = 0.518</text>\n<text text-anchor=\"middle\" x=\"270\" y=\"-527.8\" font-family=\"Times,serif\" font-size=\"14.00\" fill=\"#000000\">samples = 33</text>\n<text text-anchor=\"middle\" x=\"270\" y=\"-512.8\" font-family=\"Times,serif\" font-size=\"14.00\" fill=\"#000000\">value = [34, 2, 24, 0, 0, 0]</text>\n</g>\n<!-- 2&#45;&gt;3 -->\n<g id=\"edge3\" class=\"edge\">\n<title>2&#45;&gt;3</title>\n<path fill=\"none\" stroke=\"#000000\" d=\"M554.1311,-618.2215C497.1981,-602.3475 423.3604,-581.76 365.2264,-565.5511\"/>\n<polygon fill=\"#000000\" stroke=\"#000000\" points=\"365.8737,-562.0981 355.3011,-562.7837 363.9936,-568.8409 365.8737,-562.0981\"/>\n</g>\n<!-- 12 -->\n<g id=\"node13\" class=\"node\">\n<title>12</title>\n<polygon fill=\"none\" stroke=\"#000000\" points=\"724,-573 562,-573 562,-505 724,-505 724,-573\"/>\n<text text-anchor=\"middle\" x=\"643\" y=\"-557.8\" font-family=\"Times,serif\" font-size=\"14.00\" fill=\"#000000\">Radius(R/Ro) &lt;= 0.193</text>\n<text text-anchor=\"middle\" x=\"643\" y=\"-542.8\" font-family=\"Times,serif\" font-size=\"14.00\" fill=\"#000000\">gini = 0.078</text>\n<text text-anchor=\"middle\" x=\"643\" y=\"-527.8\" font-family=\"Times,serif\" font-size=\"14.00\" fill=\"#000000\">samples = 31</text>\n<text text-anchor=\"middle\" x=\"643\" y=\"-512.8\" font-family=\"Times,serif\" font-size=\"14.00\" fill=\"#000000\">value = [2, 47, 0, 0, 0, 0]</text>\n</g>\n<!-- 2&#45;&gt;12 -->\n<g id=\"edge12\" class=\"edge\">\n<title>2&#45;&gt;12</title>\n<path fill=\"none\" stroke=\"#000000\" d=\"M643,-608.9465C643,-600.776 643,-591.9318 643,-583.3697\"/>\n<polygon fill=\"#000000\" stroke=\"#000000\" points=\"646.5001,-583.13 643,-573.13 639.5001,-583.13 646.5001,-583.13\"/>\n</g>\n<!-- 4 -->\n<g id=\"node5\" class=\"node\">\n<title>4</title>\n<polygon fill=\"none\" stroke=\"#000000\" points=\"171,-461.5 9,-461.5 9,-408.5 171,-408.5 171,-461.5\"/>\n<text text-anchor=\"middle\" x=\"90\" y=\"-446.3\" font-family=\"Times,serif\" font-size=\"14.00\" fill=\"#000000\">gini = 0.0</text>\n<text text-anchor=\"middle\" x=\"90\" y=\"-431.3\" font-family=\"Times,serif\" font-size=\"14.00\" fill=\"#000000\">samples = 12</text>\n<text text-anchor=\"middle\" x=\"90\" y=\"-416.3\" font-family=\"Times,serif\" font-size=\"14.00\" fill=\"#000000\">value = [0, 0, 24, 0, 0, 0]</text>\n</g>\n<!-- 3&#45;&gt;4 -->\n<g id=\"edge4\" class=\"edge\">\n<title>3&#45;&gt;4</title>\n<path fill=\"none\" stroke=\"#000000\" d=\"M211.0613,-504.9465C189.7093,-492.6098 165.6988,-478.7371 144.7247,-466.6187\"/>\n<polygon fill=\"#000000\" stroke=\"#000000\" points=\"146.348,-463.5145 135.9384,-461.5422 142.846,-469.5755 146.348,-463.5145\"/>\n</g>\n<!-- 5 -->\n<g id=\"node6\" class=\"node\">\n<title>5</title>\n<polygon fill=\"none\" stroke=\"#000000\" points=\"351,-469 189,-469 189,-401 351,-401 351,-469\"/>\n<text text-anchor=\"middle\" x=\"270\" y=\"-453.8\" font-family=\"Times,serif\" font-size=\"14.00\" fill=\"#000000\">Radius(R/Ro) &lt;= 0.098</text>\n<text text-anchor=\"middle\" x=\"270\" y=\"-438.8\" font-family=\"Times,serif\" font-size=\"14.00\" fill=\"#000000\">gini = 0.105</text>\n<text text-anchor=\"middle\" x=\"270\" y=\"-423.8\" font-family=\"Times,serif\" font-size=\"14.00\" fill=\"#000000\">samples = 21</text>\n<text text-anchor=\"middle\" x=\"270\" y=\"-408.8\" font-family=\"Times,serif\" font-size=\"14.00\" fill=\"#000000\">value = [34, 2, 0, 0, 0, 0]</text>\n</g>\n<!-- 3&#45;&gt;5 -->\n<g id=\"edge5\" class=\"edge\">\n<title>3&#45;&gt;5</title>\n<path fill=\"none\" stroke=\"#000000\" d=\"M270,-504.9465C270,-496.776 270,-487.9318 270,-479.3697\"/>\n<polygon fill=\"#000000\" stroke=\"#000000\" points=\"273.5001,-479.13 270,-469.13 266.5001,-479.13 273.5001,-479.13\"/>\n</g>\n<!-- 6 -->\n<g id=\"node7\" class=\"node\">\n<title>6</title>\n<polygon fill=\"none\" stroke=\"#000000\" points=\"162,-357.5 0,-357.5 0,-304.5 162,-304.5 162,-357.5\"/>\n<text text-anchor=\"middle\" x=\"81\" y=\"-342.3\" font-family=\"Times,serif\" font-size=\"14.00\" fill=\"#000000\">gini = 0.0</text>\n<text text-anchor=\"middle\" x=\"81\" y=\"-327.3\" font-family=\"Times,serif\" font-size=\"14.00\" fill=\"#000000\">samples = 9</text>\n<text text-anchor=\"middle\" x=\"81\" y=\"-312.3\" font-family=\"Times,serif\" font-size=\"14.00\" fill=\"#000000\">value = [19, 0, 0, 0, 0, 0]</text>\n</g>\n<!-- 5&#45;&gt;6 -->\n<g id=\"edge6\" class=\"edge\">\n<title>5&#45;&gt;6</title>\n<path fill=\"none\" stroke=\"#000000\" d=\"M208.1143,-400.9465C185.5947,-388.5547 160.2585,-374.6132 138.1662,-362.4565\"/>\n<polygon fill=\"#000000\" stroke=\"#000000\" points=\"139.6838,-359.2968 129.2353,-357.5422 136.3091,-365.4296 139.6838,-359.2968\"/>\n</g>\n<!-- 7 -->\n<g id=\"node8\" class=\"node\">\n<title>7</title>\n<polygon fill=\"none\" stroke=\"#000000\" points=\"359.5,-365 180.5,-365 180.5,-297 359.5,-297 359.5,-365\"/>\n<text text-anchor=\"middle\" x=\"270\" y=\"-349.8\" font-family=\"Times,serif\" font-size=\"14.00\" fill=\"#000000\">Luminosity(L/Lo) &lt;= 0.001</text>\n<text text-anchor=\"middle\" x=\"270\" y=\"-334.8\" font-family=\"Times,serif\" font-size=\"14.00\" fill=\"#000000\">gini = 0.208</text>\n<text text-anchor=\"middle\" x=\"270\" y=\"-319.8\" font-family=\"Times,serif\" font-size=\"14.00\" fill=\"#000000\">samples = 12</text>\n<text text-anchor=\"middle\" x=\"270\" y=\"-304.8\" font-family=\"Times,serif\" font-size=\"14.00\" fill=\"#000000\">value = [15, 2, 0, 0, 0, 0]</text>\n</g>\n<!-- 5&#45;&gt;7 -->\n<g id=\"edge7\" class=\"edge\">\n<title>5&#45;&gt;7</title>\n<path fill=\"none\" stroke=\"#000000\" d=\"M270,-400.9465C270,-392.776 270,-383.9318 270,-375.3697\"/>\n<polygon fill=\"#000000\" stroke=\"#000000\" points=\"273.5001,-375.13 270,-365.13 266.5001,-375.13 273.5001,-375.13\"/>\n</g>\n<!-- 8 -->\n<g id=\"node9\" class=\"node\">\n<title>8</title>\n<polygon fill=\"none\" stroke=\"#000000\" points=\"168.5,-253.5 13.5,-253.5 13.5,-200.5 168.5,-200.5 168.5,-253.5\"/>\n<text text-anchor=\"middle\" x=\"91\" y=\"-238.3\" font-family=\"Times,serif\" font-size=\"14.00\" fill=\"#000000\">gini = 0.0</text>\n<text text-anchor=\"middle\" x=\"91\" y=\"-223.3\" font-family=\"Times,serif\" font-size=\"14.00\" fill=\"#000000\">samples = 6</text>\n<text text-anchor=\"middle\" x=\"91\" y=\"-208.3\" font-family=\"Times,serif\" font-size=\"14.00\" fill=\"#000000\">value = [8, 0, 0, 0, 0, 0]</text>\n</g>\n<!-- 7&#45;&gt;8 -->\n<g id=\"edge8\" class=\"edge\">\n<title>7&#45;&gt;8</title>\n<path fill=\"none\" stroke=\"#000000\" d=\"M211.3887,-296.9465C190.1554,-284.6098 166.2782,-270.7371 145.4207,-258.6187\"/>\n<polygon fill=\"#000000\" stroke=\"#000000\" points=\"147.088,-255.5396 136.6831,-253.5422 143.5714,-261.5922 147.088,-255.5396\"/>\n</g>\n<!-- 9 -->\n<g id=\"node10\" class=\"node\">\n<title>9</title>\n<polygon fill=\"none\" stroke=\"#000000\" points=\"365.5,-261 186.5,-261 186.5,-193 365.5,-193 365.5,-261\"/>\n<text text-anchor=\"middle\" x=\"276\" y=\"-245.8\" font-family=\"Times,serif\" font-size=\"14.00\" fill=\"#000000\">Luminosity(L/Lo) &lt;= 0.001</text>\n<text text-anchor=\"middle\" x=\"276\" y=\"-230.8\" font-family=\"Times,serif\" font-size=\"14.00\" fill=\"#000000\">gini = 0.346</text>\n<text text-anchor=\"middle\" x=\"276\" y=\"-215.8\" font-family=\"Times,serif\" font-size=\"14.00\" fill=\"#000000\">samples = 6</text>\n<text text-anchor=\"middle\" x=\"276\" y=\"-200.8\" font-family=\"Times,serif\" font-size=\"14.00\" fill=\"#000000\">value = [7, 2, 0, 0, 0, 0]</text>\n</g>\n<!-- 7&#45;&gt;9 -->\n<g id=\"edge9\" class=\"edge\">\n<title>7&#45;&gt;9</title>\n<path fill=\"none\" stroke=\"#000000\" d=\"M271.9646,-296.9465C272.436,-288.776 272.9462,-279.9318 273.4402,-271.3697\"/>\n<polygon fill=\"#000000\" stroke=\"#000000\" points=\"276.9491,-271.315 274.031,-261.13 269.9607,-270.9118 276.9491,-271.315\"/>\n</g>\n<!-- 10 -->\n<g id=\"node11\" class=\"node\">\n<title>10</title>\n<polygon fill=\"none\" stroke=\"#000000\" points=\"189.5,-149.5 34.5,-149.5 34.5,-96.5 189.5,-96.5 189.5,-149.5\"/>\n<text text-anchor=\"middle\" x=\"112\" y=\"-134.3\" font-family=\"Times,serif\" font-size=\"14.00\" fill=\"#000000\">gini = 0.0</text>\n<text text-anchor=\"middle\" x=\"112\" y=\"-119.3\" font-family=\"Times,serif\" font-size=\"14.00\" fill=\"#000000\">samples = 1</text>\n<text text-anchor=\"middle\" x=\"112\" y=\"-104.3\" font-family=\"Times,serif\" font-size=\"14.00\" fill=\"#000000\">value = [0, 2, 0, 0, 0, 0]</text>\n</g>\n<!-- 9&#45;&gt;10 -->\n<g id=\"edge10\" class=\"edge\">\n<title>9&#45;&gt;10</title>\n<path fill=\"none\" stroke=\"#000000\" d=\"M222.3003,-192.9465C203.0199,-180.72 181.3604,-166.9847 162.3728,-154.9437\"/>\n<polygon fill=\"#000000\" stroke=\"#000000\" points=\"164.1745,-151.9418 153.855,-149.5422 160.4256,-157.8534 164.1745,-151.9418\"/>\n</g>\n<!-- 11 -->\n<g id=\"node12\" class=\"node\">\n<title>11</title>\n<polygon fill=\"none\" stroke=\"#000000\" points=\"362.5,-149.5 207.5,-149.5 207.5,-96.5 362.5,-96.5 362.5,-149.5\"/>\n<text text-anchor=\"middle\" x=\"285\" y=\"-134.3\" font-family=\"Times,serif\" font-size=\"14.00\" fill=\"#000000\">gini = 0.0</text>\n<text text-anchor=\"middle\" x=\"285\" y=\"-119.3\" font-family=\"Times,serif\" font-size=\"14.00\" fill=\"#000000\">samples = 5</text>\n<text text-anchor=\"middle\" x=\"285\" y=\"-104.3\" font-family=\"Times,serif\" font-size=\"14.00\" fill=\"#000000\">value = [7, 0, 0, 0, 0, 0]</text>\n</g>\n<!-- 9&#45;&gt;11 -->\n<g id=\"edge11\" class=\"edge\">\n<title>9&#45;&gt;11</title>\n<path fill=\"none\" stroke=\"#000000\" d=\"M278.9469,-192.9465C279.8716,-182.2621 280.8959,-170.4254 281.8349,-159.5742\"/>\n<polygon fill=\"#000000\" stroke=\"#000000\" points=\"285.3278,-159.8067 282.7031,-149.5422 278.3539,-159.2031 285.3278,-159.8067\"/>\n</g>\n<!-- 13 -->\n<g id=\"node14\" class=\"node\">\n<title>13</title>\n<polygon fill=\"none\" stroke=\"#000000\" points=\"638.5,-469 459.5,-469 459.5,-401 638.5,-401 638.5,-469\"/>\n<text text-anchor=\"middle\" x=\"549\" y=\"-453.8\" font-family=\"Times,serif\" font-size=\"14.00\" fill=\"#000000\">Luminosity(L/Lo) &lt;= 0.001</text>\n<text text-anchor=\"middle\" x=\"549\" y=\"-438.8\" font-family=\"Times,serif\" font-size=\"14.00\" fill=\"#000000\">gini = 0.444</text>\n<text text-anchor=\"middle\" x=\"549\" y=\"-423.8\" font-family=\"Times,serif\" font-size=\"14.00\" fill=\"#000000\">samples = 5</text>\n<text text-anchor=\"middle\" x=\"549\" y=\"-408.8\" font-family=\"Times,serif\" font-size=\"14.00\" fill=\"#000000\">value = [2, 4, 0, 0, 0, 0]</text>\n</g>\n<!-- 12&#45;&gt;13 -->\n<g id=\"edge13\" class=\"edge\">\n<title>12&#45;&gt;13</title>\n<path fill=\"none\" stroke=\"#000000\" d=\"M612.2209,-504.9465C604.0245,-495.8782 595.078,-485.9799 586.5625,-476.5585\"/>\n<polygon fill=\"#000000\" stroke=\"#000000\" points=\"589.1503,-474.2019 579.8483,-469.13 583.9571,-478.8957 589.1503,-474.2019\"/>\n</g>\n<!-- 20 -->\n<g id=\"node21\" class=\"node\">\n<title>20</title>\n<polygon fill=\"none\" stroke=\"#000000\" points=\"819,-461.5 657,-461.5 657,-408.5 819,-408.5 819,-461.5\"/>\n<text text-anchor=\"middle\" x=\"738\" y=\"-446.3\" font-family=\"Times,serif\" font-size=\"14.00\" fill=\"#000000\">gini = 0.0</text>\n<text text-anchor=\"middle\" x=\"738\" y=\"-431.3\" font-family=\"Times,serif\" font-size=\"14.00\" fill=\"#000000\">samples = 26</text>\n<text text-anchor=\"middle\" x=\"738\" y=\"-416.3\" font-family=\"Times,serif\" font-size=\"14.00\" fill=\"#000000\">value = [0, 43, 0, 0, 0, 0]</text>\n</g>\n<!-- 12&#45;&gt;20 -->\n<g id=\"edge20\" class=\"edge\">\n<title>12&#45;&gt;20</title>\n<path fill=\"none\" stroke=\"#000000\" d=\"M674.1066,-504.9465C684.5707,-493.491 696.2447,-480.711 706.722,-469.2412\"/>\n<polygon fill=\"#000000\" stroke=\"#000000\" points=\"709.5945,-471.2861 713.7548,-461.5422 704.4262,-466.565 709.5945,-471.2861\"/>\n</g>\n<!-- 14 -->\n<g id=\"node15\" class=\"node\">\n<title>14</title>\n<polygon fill=\"none\" stroke=\"#000000\" points=\"532.5,-357.5 377.5,-357.5 377.5,-304.5 532.5,-304.5 532.5,-357.5\"/>\n<text text-anchor=\"middle\" x=\"455\" y=\"-342.3\" font-family=\"Times,serif\" font-size=\"14.00\" fill=\"#000000\">gini = 0.0</text>\n<text text-anchor=\"middle\" x=\"455\" y=\"-327.3\" font-family=\"Times,serif\" font-size=\"14.00\" fill=\"#000000\">samples = 1</text>\n<text text-anchor=\"middle\" x=\"455\" y=\"-312.3\" font-family=\"Times,serif\" font-size=\"14.00\" fill=\"#000000\">value = [1, 0, 0, 0, 0, 0]</text>\n</g>\n<!-- 13&#45;&gt;14 -->\n<g id=\"edge14\" class=\"edge\">\n<title>13&#45;&gt;14</title>\n<path fill=\"none\" stroke=\"#000000\" d=\"M518.2209,-400.9465C507.8669,-389.491 496.3158,-376.711 485.9487,-365.2412\"/>\n<polygon fill=\"#000000\" stroke=\"#000000\" points=\"488.292,-362.614 478.99,-357.5422 483.0989,-367.3078 488.292,-362.614\"/>\n</g>\n<!-- 15 -->\n<g id=\"node16\" class=\"node\">\n<title>15</title>\n<polygon fill=\"none\" stroke=\"#000000\" points=\"729.5,-365 550.5,-365 550.5,-297 729.5,-297 729.5,-365\"/>\n<text text-anchor=\"middle\" x=\"640\" y=\"-349.8\" font-family=\"Times,serif\" font-size=\"14.00\" fill=\"#000000\">Luminosity(L/Lo) &lt;= 0.001</text>\n<text text-anchor=\"middle\" x=\"640\" y=\"-334.8\" font-family=\"Times,serif\" font-size=\"14.00\" fill=\"#000000\">gini = 0.32</text>\n<text text-anchor=\"middle\" x=\"640\" y=\"-319.8\" font-family=\"Times,serif\" font-size=\"14.00\" fill=\"#000000\">samples = 4</text>\n<text text-anchor=\"middle\" x=\"640\" y=\"-304.8\" font-family=\"Times,serif\" font-size=\"14.00\" fill=\"#000000\">value = [1, 4, 0, 0, 0, 0]</text>\n</g>\n<!-- 13&#45;&gt;15 -->\n<g id=\"edge15\" class=\"edge\">\n<title>13&#45;&gt;15</title>\n<path fill=\"none\" stroke=\"#000000\" d=\"M578.7968,-400.9465C586.653,-391.968 595.2212,-382.1758 603.3913,-372.8385\"/>\n<polygon fill=\"#000000\" stroke=\"#000000\" points=\"606.1852,-374.9606 610.1363,-365.13 600.9171,-370.351 606.1852,-374.9606\"/>\n</g>\n<!-- 16 -->\n<g id=\"node17\" class=\"node\">\n<title>16</title>\n<polygon fill=\"none\" stroke=\"#000000\" points=\"544.5,-253.5 389.5,-253.5 389.5,-200.5 544.5,-200.5 544.5,-253.5\"/>\n<text text-anchor=\"middle\" x=\"467\" y=\"-238.3\" font-family=\"Times,serif\" font-size=\"14.00\" fill=\"#000000\">gini = 0.0</text>\n<text text-anchor=\"middle\" x=\"467\" y=\"-223.3\" font-family=\"Times,serif\" font-size=\"14.00\" fill=\"#000000\">samples = 1</text>\n<text text-anchor=\"middle\" x=\"467\" y=\"-208.3\" font-family=\"Times,serif\" font-size=\"14.00\" fill=\"#000000\">value = [0, 2, 0, 0, 0, 0]</text>\n</g>\n<!-- 15&#45;&gt;16 -->\n<g id=\"edge16\" class=\"edge\">\n<title>15&#45;&gt;16</title>\n<path fill=\"none\" stroke=\"#000000\" d=\"M583.3533,-296.9465C562.9233,-284.6649 539.9609,-270.8609 519.8667,-258.7811\"/>\n<polygon fill=\"#000000\" stroke=\"#000000\" points=\"521.5257,-255.6948 511.1519,-253.5422 517.9191,-261.6942 521.5257,-255.6948\"/>\n</g>\n<!-- 17 -->\n<g id=\"node18\" class=\"node\">\n<title>17</title>\n<polygon fill=\"none\" stroke=\"#000000\" points=\"717.5,-261 562.5,-261 562.5,-193 717.5,-193 717.5,-261\"/>\n<text text-anchor=\"middle\" x=\"640\" y=\"-245.8\" font-family=\"Times,serif\" font-size=\"14.00\" fill=\"#000000\">Radius(R/Ro) &lt;= 0.175</text>\n<text text-anchor=\"middle\" x=\"640\" y=\"-230.8\" font-family=\"Times,serif\" font-size=\"14.00\" fill=\"#000000\">gini = 0.444</text>\n<text text-anchor=\"middle\" x=\"640\" y=\"-215.8\" font-family=\"Times,serif\" font-size=\"14.00\" fill=\"#000000\">samples = 3</text>\n<text text-anchor=\"middle\" x=\"640\" y=\"-200.8\" font-family=\"Times,serif\" font-size=\"14.00\" fill=\"#000000\">value = [1, 2, 0, 0, 0, 0]</text>\n</g>\n<!-- 15&#45;&gt;17 -->\n<g id=\"edge17\" class=\"edge\">\n<title>15&#45;&gt;17</title>\n<path fill=\"none\" stroke=\"#000000\" d=\"M640,-296.9465C640,-288.776 640,-279.9318 640,-271.3697\"/>\n<polygon fill=\"#000000\" stroke=\"#000000\" points=\"643.5001,-271.13 640,-261.13 636.5001,-271.13 643.5001,-271.13\"/>\n</g>\n<!-- 18 -->\n<g id=\"node19\" class=\"node\">\n<title>18</title>\n<polygon fill=\"none\" stroke=\"#000000\" points=\"545.5,-149.5 390.5,-149.5 390.5,-96.5 545.5,-96.5 545.5,-149.5\"/>\n<text text-anchor=\"middle\" x=\"468\" y=\"-134.3\" font-family=\"Times,serif\" font-size=\"14.00\" fill=\"#000000\">gini = 0.0</text>\n<text text-anchor=\"middle\" x=\"468\" y=\"-119.3\" font-family=\"Times,serif\" font-size=\"14.00\" fill=\"#000000\">samples = 2</text>\n<text text-anchor=\"middle\" x=\"468\" y=\"-104.3\" font-family=\"Times,serif\" font-size=\"14.00\" fill=\"#000000\">value = [0, 2, 0, 0, 0, 0]</text>\n</g>\n<!-- 17&#45;&gt;18 -->\n<g id=\"edge18\" class=\"edge\">\n<title>17&#45;&gt;18</title>\n<path fill=\"none\" stroke=\"#000000\" d=\"M583.6808,-192.9465C563.3689,-180.6649 540.5392,-166.8609 520.5611,-154.7811\"/>\n<polygon fill=\"#000000\" stroke=\"#000000\" points=\"522.265,-151.7213 511.8967,-149.5422 518.643,-157.7115 522.265,-151.7213\"/>\n</g>\n<!-- 19 -->\n<g id=\"node20\" class=\"node\">\n<title>19</title>\n<polygon fill=\"none\" stroke=\"#000000\" points=\"718.5,-149.5 563.5,-149.5 563.5,-96.5 718.5,-96.5 718.5,-149.5\"/>\n<text text-anchor=\"middle\" x=\"641\" y=\"-134.3\" font-family=\"Times,serif\" font-size=\"14.00\" fill=\"#000000\">gini = 0.0</text>\n<text text-anchor=\"middle\" x=\"641\" y=\"-119.3\" font-family=\"Times,serif\" font-size=\"14.00\" fill=\"#000000\">samples = 1</text>\n<text text-anchor=\"middle\" x=\"641\" y=\"-104.3\" font-family=\"Times,serif\" font-size=\"14.00\" fill=\"#000000\">value = [1, 0, 0, 0, 0, 0]</text>\n</g>\n<!-- 17&#45;&gt;19 -->\n<g id=\"edge19\" class=\"edge\">\n<title>17&#45;&gt;19</title>\n<path fill=\"none\" stroke=\"#000000\" d=\"M640.3274,-192.9465C640.4302,-182.2621 640.544,-170.4254 640.6483,-159.5742\"/>\n<polygon fill=\"#000000\" stroke=\"#000000\" points=\"644.1484,-159.5754 640.7448,-149.5422 637.1487,-159.508 644.1484,-159.5754\"/>\n</g>\n<!-- 22 -->\n<g id=\"node23\" class=\"node\">\n<title>22</title>\n<polygon fill=\"none\" stroke=\"#000000\" points=\"1421,-573 1251,-573 1251,-505 1421,-505 1421,-573\"/>\n<text text-anchor=\"middle\" x=\"1336\" y=\"-557.8\" font-family=\"Times,serif\" font-size=\"14.00\" fill=\"#000000\">SpC&#45;G &lt;= 0.5</text>\n<text text-anchor=\"middle\" x=\"1336\" y=\"-542.8\" font-family=\"Times,serif\" font-size=\"14.00\" fill=\"#000000\">gini = 0.592</text>\n<text text-anchor=\"middle\" x=\"1336\" y=\"-527.8\" font-family=\"Times,serif\" font-size=\"14.00\" fill=\"#000000\">samples = 35</text>\n<text text-anchor=\"middle\" x=\"1336\" y=\"-512.8\" font-family=\"Times,serif\" font-size=\"14.00\" fill=\"#000000\">value = [0, 0, 0, 20, 6, 25]</text>\n</g>\n<!-- 21&#45;&gt;22 -->\n<g id=\"edge22\" class=\"edge\">\n<title>21&#45;&gt;22</title>\n<path fill=\"none\" stroke=\"#000000\" d=\"M1403.2563,-608.9465C1394.5367,-599.8782 1385.0191,-589.9799 1375.9601,-580.5585\"/>\n<polygon fill=\"#000000\" stroke=\"#000000\" points=\"1378.2713,-577.9125 1368.8173,-573.13 1373.2255,-582.7642 1378.2713,-577.9125\"/>\n</g>\n<!-- 39 -->\n<g id=\"node40\" class=\"node\">\n<title>39</title>\n<polygon fill=\"none\" stroke=\"#000000\" points=\"1641,-573 1439,-573 1439,-505 1641,-505 1641,-573\"/>\n<text text-anchor=\"middle\" x=\"1540\" y=\"-557.8\" font-family=\"Times,serif\" font-size=\"14.00\" fill=\"#000000\">Luminosity(L/Lo) &lt;= 212950.0</text>\n<text text-anchor=\"middle\" x=\"1540\" y=\"-542.8\" font-family=\"Times,serif\" font-size=\"14.00\" fill=\"#000000\">gini = 0.405</text>\n<text text-anchor=\"middle\" x=\"1540\" y=\"-527.8\" font-family=\"Times,serif\" font-size=\"14.00\" fill=\"#000000\">samples = 23</text>\n<text text-anchor=\"middle\" x=\"1540\" y=\"-512.8\" font-family=\"Times,serif\" font-size=\"14.00\" fill=\"#000000\">value = [0, 0, 0, 7, 26, 2]</text>\n</g>\n<!-- 21&#45;&gt;39 -->\n<g id=\"edge39\" class=\"edge\">\n<title>21&#45;&gt;39</title>\n<path fill=\"none\" stroke=\"#000000\" d=\"M1470.0535,-608.9465C1479.2116,-599.7884 1489.2162,-589.7838 1498.7212,-580.2788\"/>\n<polygon fill=\"#000000\" stroke=\"#000000\" points=\"1501.2738,-582.676 1505.87,-573.13 1496.324,-577.7262 1501.2738,-582.676\"/>\n</g>\n<!-- 23 -->\n<g id=\"node24\" class=\"node\">\n<title>23</title>\n<polygon fill=\"none\" stroke=\"#000000\" points=\"1246,-469 1076,-469 1076,-401 1246,-401 1246,-469\"/>\n<text text-anchor=\"middle\" x=\"1161\" y=\"-453.8\" font-family=\"Times,serif\" font-size=\"14.00\" fill=\"#000000\">SpC&#45;M &lt;= 0.5</text>\n<text text-anchor=\"middle\" x=\"1161\" y=\"-438.8\" font-family=\"Times,serif\" font-size=\"14.00\" fill=\"#000000\">gini = 0.595</text>\n<text text-anchor=\"middle\" x=\"1161\" y=\"-423.8\" font-family=\"Times,serif\" font-size=\"14.00\" fill=\"#000000\">samples = 34</text>\n<text text-anchor=\"middle\" x=\"1161\" y=\"-408.8\" font-family=\"Times,serif\" font-size=\"14.00\" fill=\"#000000\">value = [0, 0, 0, 20, 6, 24]</text>\n</g>\n<!-- 22&#45;&gt;23 -->\n<g id=\"edge23\" class=\"edge\">\n<title>22&#45;&gt;23</title>\n<path fill=\"none\" stroke=\"#000000\" d=\"M1278.6985,-504.9465C1262.2306,-495.1599 1244.1362,-484.4066 1227.1793,-474.3294\"/>\n<polygon fill=\"#000000\" stroke=\"#000000\" points=\"1228.8149,-471.23 1218.4303,-469.13 1225.2387,-477.2476 1228.8149,-471.23\"/>\n</g>\n<!-- 38 -->\n<g id=\"node39\" class=\"node\">\n<title>38</title>\n<polygon fill=\"none\" stroke=\"#000000\" points=\"1419.5,-461.5 1264.5,-461.5 1264.5,-408.5 1419.5,-408.5 1419.5,-461.5\"/>\n<text text-anchor=\"middle\" x=\"1342\" y=\"-446.3\" font-family=\"Times,serif\" font-size=\"14.00\" fill=\"#000000\">gini = 0.0</text>\n<text text-anchor=\"middle\" x=\"1342\" y=\"-431.3\" font-family=\"Times,serif\" font-size=\"14.00\" fill=\"#000000\">samples = 1</text>\n<text text-anchor=\"middle\" x=\"1342\" y=\"-416.3\" font-family=\"Times,serif\" font-size=\"14.00\" fill=\"#000000\">value = [0, 0, 0, 0, 0, 1]</text>\n</g>\n<!-- 22&#45;&gt;38 -->\n<g id=\"edge38\" class=\"edge\">\n<title>22&#45;&gt;38</title>\n<path fill=\"none\" stroke=\"#000000\" d=\"M1337.9646,-504.9465C1338.581,-494.2621 1339.2639,-482.4254 1339.8899,-471.5742\"/>\n<polygon fill=\"#000000\" stroke=\"#000000\" points=\"1343.3869,-471.7272 1340.4687,-461.5422 1336.3985,-471.3239 1343.3869,-471.7272\"/>\n</g>\n<!-- 24 -->\n<g id=\"node25\" class=\"node\">\n<title>24</title>\n<polygon fill=\"none\" stroke=\"#000000\" points=\"1048,-365 886,-365 886,-297 1048,-297 1048,-365\"/>\n<text text-anchor=\"middle\" x=\"967\" y=\"-349.8\" font-family=\"Times,serif\" font-size=\"14.00\" fill=\"#000000\">SpC&#45;F &lt;= 0.5</text>\n<text text-anchor=\"middle\" x=\"967\" y=\"-334.8\" font-family=\"Times,serif\" font-size=\"14.00\" fill=\"#000000\">gini = 0.32</text>\n<text text-anchor=\"middle\" x=\"967\" y=\"-319.8\" font-family=\"Times,serif\" font-size=\"14.00\" fill=\"#000000\">samples = 19</text>\n<text text-anchor=\"middle\" x=\"967\" y=\"-304.8\" font-family=\"Times,serif\" font-size=\"14.00\" fill=\"#000000\">value = [0, 0, 0, 20, 0, 5]</text>\n</g>\n<!-- 23&#45;&gt;24 -->\n<g id=\"edge24\" class=\"edge\">\n<title>23&#45;&gt;24</title>\n<path fill=\"none\" stroke=\"#000000\" d=\"M1097.4771,-400.9465C1078.9701,-391.0252 1058.61,-380.1105 1039.5891,-369.9138\"/>\n<polygon fill=\"#000000\" stroke=\"#000000\" points=\"1041.1327,-366.7701 1030.6656,-365.13 1037.8254,-372.9395 1041.1327,-366.7701\"/>\n</g>\n<!-- 31 -->\n<g id=\"node32\" class=\"node\">\n<title>31</title>\n<polygon fill=\"none\" stroke=\"#000000\" points=\"1268,-365 1066,-365 1066,-297 1268,-297 1268,-365\"/>\n<text text-anchor=\"middle\" x=\"1167\" y=\"-349.8\" font-family=\"Times,serif\" font-size=\"14.00\" fill=\"#000000\">Luminosity(L/Lo) &lt;= 147500.0</text>\n<text text-anchor=\"middle\" x=\"1167\" y=\"-334.8\" font-family=\"Times,serif\" font-size=\"14.00\" fill=\"#000000\">gini = 0.365</text>\n<text text-anchor=\"middle\" x=\"1167\" y=\"-319.8\" font-family=\"Times,serif\" font-size=\"14.00\" fill=\"#000000\">samples = 15</text>\n<text text-anchor=\"middle\" x=\"1167\" y=\"-304.8\" font-family=\"Times,serif\" font-size=\"14.00\" fill=\"#000000\">value = [0, 0, 0, 0, 6, 19]</text>\n</g>\n<!-- 23&#45;&gt;31 -->\n<g id=\"edge31\" class=\"edge\">\n<title>23&#45;&gt;31</title>\n<path fill=\"none\" stroke=\"#000000\" d=\"M1162.9646,-400.9465C1163.436,-392.776 1163.9462,-383.9318 1164.4402,-375.3697\"/>\n<polygon fill=\"#000000\" stroke=\"#000000\" points=\"1167.9491,-375.315 1165.031,-365.13 1160.9607,-374.9118 1167.9491,-375.315\"/>\n</g>\n<!-- 25 -->\n<g id=\"node26\" class=\"node\">\n<title>25</title>\n<polygon fill=\"none\" stroke=\"#000000\" points=\"898,-261 736,-261 736,-193 898,-193 898,-261\"/>\n<text text-anchor=\"middle\" x=\"817\" y=\"-245.8\" font-family=\"Times,serif\" font-size=\"14.00\" fill=\"#000000\">SC&#45;blue&#45;white &lt;= 0.5</text>\n<text text-anchor=\"middle\" x=\"817\" y=\"-230.8\" font-family=\"Times,serif\" font-size=\"14.00\" fill=\"#000000\">gini = 0.401</text>\n<text text-anchor=\"middle\" x=\"817\" y=\"-215.8\" font-family=\"Times,serif\" font-size=\"14.00\" fill=\"#000000\">samples = 14</text>\n<text text-anchor=\"middle\" x=\"817\" y=\"-200.8\" font-family=\"Times,serif\" font-size=\"14.00\" fill=\"#000000\">value = [0, 0, 0, 13, 0, 5]</text>\n</g>\n<!-- 24&#45;&gt;25 -->\n<g id=\"edge25\" class=\"edge\">\n<title>24&#45;&gt;25</title>\n<path fill=\"none\" stroke=\"#000000\" d=\"M917.8844,-296.9465C904.0281,-287.3395 888.8283,-276.8009 874.5261,-266.8848\"/>\n<polygon fill=\"#000000\" stroke=\"#000000\" points=\"876.4382,-263.9515 866.226,-261.13 872.4497,-269.7041 876.4382,-263.9515\"/>\n</g>\n<!-- 30 -->\n<g id=\"node31\" class=\"node\">\n<title>30</title>\n<polygon fill=\"none\" stroke=\"#000000\" points=\"1071.5,-253.5 916.5,-253.5 916.5,-200.5 1071.5,-200.5 1071.5,-253.5\"/>\n<text text-anchor=\"middle\" x=\"994\" y=\"-238.3\" font-family=\"Times,serif\" font-size=\"14.00\" fill=\"#000000\">gini = 0.0</text>\n<text text-anchor=\"middle\" x=\"994\" y=\"-223.3\" font-family=\"Times,serif\" font-size=\"14.00\" fill=\"#000000\">samples = 5</text>\n<text text-anchor=\"middle\" x=\"994\" y=\"-208.3\" font-family=\"Times,serif\" font-size=\"14.00\" fill=\"#000000\">value = [0, 0, 0, 7, 0, 0]</text>\n</g>\n<!-- 24&#45;&gt;30 -->\n<g id=\"edge30\" class=\"edge\">\n<title>24&#45;&gt;30</title>\n<path fill=\"none\" stroke=\"#000000\" d=\"M975.8408,-296.9465C978.6433,-286.1519 981.751,-274.1813 984.5918,-263.2389\"/>\n<polygon fill=\"#000000\" stroke=\"#000000\" points=\"987.984,-264.1008 987.1092,-253.5422 981.2086,-262.3418 987.984,-264.1008\"/>\n</g>\n<!-- 26 -->\n<g id=\"node27\" class=\"node\">\n<title>26</title>\n<polygon fill=\"none\" stroke=\"#000000\" points=\"892.5,-157 737.5,-157 737.5,-89 892.5,-89 892.5,-157\"/>\n<text text-anchor=\"middle\" x=\"815\" y=\"-141.8\" font-family=\"Times,serif\" font-size=\"14.00\" fill=\"#000000\">Radius(R/Ro) &lt;= 556.9</text>\n<text text-anchor=\"middle\" x=\"815\" y=\"-126.8\" font-family=\"Times,serif\" font-size=\"14.00\" fill=\"#000000\">gini = 0.486</text>\n<text text-anchor=\"middle\" x=\"815\" y=\"-111.8\" font-family=\"Times,serif\" font-size=\"14.00\" fill=\"#000000\">samples = 8</text>\n<text text-anchor=\"middle\" x=\"815\" y=\"-96.8\" font-family=\"Times,serif\" font-size=\"14.00\" fill=\"#000000\">value = [0, 0, 0, 7, 0, 5]</text>\n</g>\n<!-- 25&#45;&gt;26 -->\n<g id=\"edge26\" class=\"edge\">\n<title>25&#45;&gt;26</title>\n<path fill=\"none\" stroke=\"#000000\" d=\"M816.3451,-192.9465C816.188,-184.776 816.0179,-175.9318 815.8533,-167.3697\"/>\n<polygon fill=\"#000000\" stroke=\"#000000\" points=\"819.3481,-167.0608 815.6563,-157.13 812.3494,-167.1955 819.3481,-167.0608\"/>\n</g>\n<!-- 29 -->\n<g id=\"node30\" class=\"node\">\n<title>29</title>\n<polygon fill=\"none\" stroke=\"#000000\" points=\"1065.5,-149.5 910.5,-149.5 910.5,-96.5 1065.5,-96.5 1065.5,-149.5\"/>\n<text text-anchor=\"middle\" x=\"988\" y=\"-134.3\" font-family=\"Times,serif\" font-size=\"14.00\" fill=\"#000000\">gini = 0.0</text>\n<text text-anchor=\"middle\" x=\"988\" y=\"-119.3\" font-family=\"Times,serif\" font-size=\"14.00\" fill=\"#000000\">samples = 6</text>\n<text text-anchor=\"middle\" x=\"988\" y=\"-104.3\" font-family=\"Times,serif\" font-size=\"14.00\" fill=\"#000000\">value = [0, 0, 0, 6, 0, 0]</text>\n</g>\n<!-- 25&#45;&gt;29 -->\n<g id=\"edge29\" class=\"edge\">\n<title>25&#45;&gt;29</title>\n<path fill=\"none\" stroke=\"#000000\" d=\"M872.9918,-192.9465C893.1856,-180.6649 915.8826,-166.8609 935.7445,-154.7811\"/>\n<polygon fill=\"#000000\" stroke=\"#000000\" points=\"937.6333,-157.7289 944.3586,-149.5422 933.9959,-151.7481 937.6333,-157.7289\"/>\n</g>\n<!-- 27 -->\n<g id=\"node28\" class=\"node\">\n<title>27</title>\n<polygon fill=\"none\" stroke=\"#000000\" points=\"806.5,-53 651.5,-53 651.5,0 806.5,0 806.5,-53\"/>\n<text text-anchor=\"middle\" x=\"729\" y=\"-37.8\" font-family=\"Times,serif\" font-size=\"14.00\" fill=\"#000000\">gini = 0.0</text>\n<text text-anchor=\"middle\" x=\"729\" y=\"-22.8\" font-family=\"Times,serif\" font-size=\"14.00\" fill=\"#000000\">samples = 4</text>\n<text text-anchor=\"middle\" x=\"729\" y=\"-7.8\" font-family=\"Times,serif\" font-size=\"14.00\" fill=\"#000000\">value = [0, 0, 0, 7, 0, 0]</text>\n</g>\n<!-- 26&#45;&gt;27 -->\n<g id=\"edge27\" class=\"edge\">\n<title>26&#45;&gt;27</title>\n<path fill=\"none\" stroke=\"#000000\" d=\"M784.6796,-88.9777C776.519,-79.8207 767.6892,-69.9129 759.5179,-60.744\"/>\n<polygon fill=\"#000000\" stroke=\"#000000\" points=\"762.1042,-58.3854 752.838,-53.2485 756.8783,-63.0427 762.1042,-58.3854\"/>\n</g>\n<!-- 28 -->\n<g id=\"node29\" class=\"node\">\n<title>28</title>\n<polygon fill=\"none\" stroke=\"#000000\" points=\"979.5,-53 824.5,-53 824.5,0 979.5,0 979.5,-53\"/>\n<text text-anchor=\"middle\" x=\"902\" y=\"-37.8\" font-family=\"Times,serif\" font-size=\"14.00\" fill=\"#000000\">gini = 0.0</text>\n<text text-anchor=\"middle\" x=\"902\" y=\"-22.8\" font-family=\"Times,serif\" font-size=\"14.00\" fill=\"#000000\">samples = 4</text>\n<text text-anchor=\"middle\" x=\"902\" y=\"-7.8\" font-family=\"Times,serif\" font-size=\"14.00\" fill=\"#000000\">value = [0, 0, 0, 0, 0, 5]</text>\n</g>\n<!-- 26&#45;&gt;28 -->\n<g id=\"edge28\" class=\"edge\">\n<title>26&#45;&gt;28</title>\n<path fill=\"none\" stroke=\"#000000\" d=\"M845.6729,-88.9777C853.9285,-79.8207 862.8609,-69.9129 871.1272,-60.744\"/>\n<polygon fill=\"#000000\" stroke=\"#000000\" points=\"873.7883,-63.0193 877.8848,-53.2485 868.5892,-58.3321 873.7883,-63.0193\"/>\n</g>\n<!-- 32 -->\n<g id=\"node33\" class=\"node\">\n<title>32</title>\n<polygon fill=\"none\" stroke=\"#000000\" points=\"1244.5,-253.5 1089.5,-253.5 1089.5,-200.5 1244.5,-200.5 1244.5,-253.5\"/>\n<text text-anchor=\"middle\" x=\"1167\" y=\"-238.3\" font-family=\"Times,serif\" font-size=\"14.00\" fill=\"#000000\">gini = 0.0</text>\n<text text-anchor=\"middle\" x=\"1167\" y=\"-223.3\" font-family=\"Times,serif\" font-size=\"14.00\" fill=\"#000000\">samples = 4</text>\n<text text-anchor=\"middle\" x=\"1167\" y=\"-208.3\" font-family=\"Times,serif\" font-size=\"14.00\" fill=\"#000000\">value = [0, 0, 0, 0, 0, 7]</text>\n</g>\n<!-- 31&#45;&gt;32 -->\n<g id=\"edge32\" class=\"edge\">\n<title>31&#45;&gt;32</title>\n<path fill=\"none\" stroke=\"#000000\" d=\"M1167,-296.9465C1167,-286.2621 1167,-274.4254 1167,-263.5742\"/>\n<polygon fill=\"#000000\" stroke=\"#000000\" points=\"1170.5001,-263.5421 1167,-253.5422 1163.5001,-263.5422 1170.5001,-263.5421\"/>\n</g>\n<!-- 33 -->\n<g id=\"node34\" class=\"node\">\n<title>33</title>\n<polygon fill=\"none\" stroke=\"#000000\" points=\"1465,-261 1263,-261 1263,-193 1465,-193 1465,-261\"/>\n<text text-anchor=\"middle\" x=\"1364\" y=\"-245.8\" font-family=\"Times,serif\" font-size=\"14.00\" fill=\"#000000\">Luminosity(L/Lo) &lt;= 189500.0</text>\n<text text-anchor=\"middle\" x=\"1364\" y=\"-230.8\" font-family=\"Times,serif\" font-size=\"14.00\" fill=\"#000000\">gini = 0.444</text>\n<text text-anchor=\"middle\" x=\"1364\" y=\"-215.8\" font-family=\"Times,serif\" font-size=\"14.00\" fill=\"#000000\">samples = 11</text>\n<text text-anchor=\"middle\" x=\"1364\" y=\"-200.8\" font-family=\"Times,serif\" font-size=\"14.00\" fill=\"#000000\">value = [0, 0, 0, 0, 6, 12]</text>\n</g>\n<!-- 31&#45;&gt;33 -->\n<g id=\"edge33\" class=\"edge\">\n<title>31&#45;&gt;33</title>\n<path fill=\"none\" stroke=\"#000000\" d=\"M1231.5052,-296.9465C1250.2984,-287.0252 1270.9734,-276.1105 1290.2883,-265.9138\"/>\n<polygon fill=\"#000000\" stroke=\"#000000\" points=\"1292.1406,-268.8938 1299.3499,-261.13 1288.8726,-262.7034 1292.1406,-268.8938\"/>\n</g>\n<!-- 34 -->\n<g id=\"node35\" class=\"node\">\n<title>34</title>\n<polygon fill=\"none\" stroke=\"#000000\" points=\"1352.5,-149.5 1197.5,-149.5 1197.5,-96.5 1352.5,-96.5 1352.5,-149.5\"/>\n<text text-anchor=\"middle\" x=\"1275\" y=\"-134.3\" font-family=\"Times,serif\" font-size=\"14.00\" fill=\"#000000\">gini = 0.0</text>\n<text text-anchor=\"middle\" x=\"1275\" y=\"-119.3\" font-family=\"Times,serif\" font-size=\"14.00\" fill=\"#000000\">samples = 2</text>\n<text text-anchor=\"middle\" x=\"1275\" y=\"-104.3\" font-family=\"Times,serif\" font-size=\"14.00\" fill=\"#000000\">value = [0, 0, 0, 0, 4, 0]</text>\n</g>\n<!-- 33&#45;&gt;34 -->\n<g id=\"edge34\" class=\"edge\">\n<title>33&#45;&gt;34</title>\n<path fill=\"none\" stroke=\"#000000\" d=\"M1334.8581,-192.9465C1325.0548,-181.491 1314.1181,-168.711 1304.3025,-157.2412\"/>\n<polygon fill=\"#000000\" stroke=\"#000000\" points=\"1306.8751,-154.8642 1297.714,-149.5422 1301.5567,-159.4156 1306.8751,-154.8642\"/>\n</g>\n<!-- 35 -->\n<g id=\"node36\" class=\"node\">\n<title>35</title>\n<polygon fill=\"none\" stroke=\"#000000\" points=\"1533,-157 1371,-157 1371,-89 1533,-89 1533,-157\"/>\n<text text-anchor=\"middle\" x=\"1452\" y=\"-141.8\" font-family=\"Times,serif\" font-size=\"14.00\" fill=\"#000000\">Radius(R/Ro) &lt;= 644.5</text>\n<text text-anchor=\"middle\" x=\"1452\" y=\"-126.8\" font-family=\"Times,serif\" font-size=\"14.00\" fill=\"#000000\">gini = 0.245</text>\n<text text-anchor=\"middle\" x=\"1452\" y=\"-111.8\" font-family=\"Times,serif\" font-size=\"14.00\" fill=\"#000000\">samples = 9</text>\n<text text-anchor=\"middle\" x=\"1452\" y=\"-96.8\" font-family=\"Times,serif\" font-size=\"14.00\" fill=\"#000000\">value = [0, 0, 0, 0, 2, 12]</text>\n</g>\n<!-- 33&#45;&gt;35 -->\n<g id=\"edge35\" class=\"edge\">\n<title>33&#45;&gt;35</title>\n<path fill=\"none\" stroke=\"#000000\" d=\"M1392.8145,-192.9465C1400.4117,-183.968 1408.6974,-174.1758 1416.5982,-164.8385\"/>\n<polygon fill=\"#000000\" stroke=\"#000000\" points=\"1419.3332,-167.0247 1423.1208,-157.13 1413.9895,-162.5031 1419.3332,-167.0247\"/>\n</g>\n<!-- 36 -->\n<g id=\"node37\" class=\"node\">\n<title>36</title>\n<polygon fill=\"none\" stroke=\"#000000\" points=\"1440.5,-53 1285.5,-53 1285.5,0 1440.5,0 1440.5,-53\"/>\n<text text-anchor=\"middle\" x=\"1363\" y=\"-37.8\" font-family=\"Times,serif\" font-size=\"14.00\" fill=\"#000000\">gini = 0.0</text>\n<text text-anchor=\"middle\" x=\"1363\" y=\"-22.8\" font-family=\"Times,serif\" font-size=\"14.00\" fill=\"#000000\">samples = 2</text>\n<text text-anchor=\"middle\" x=\"1363\" y=\"-7.8\" font-family=\"Times,serif\" font-size=\"14.00\" fill=\"#000000\">value = [0, 0, 0, 0, 2, 0]</text>\n</g>\n<!-- 35&#45;&gt;36 -->\n<g id=\"edge36\" class=\"edge\">\n<title>35&#45;&gt;36</title>\n<path fill=\"none\" stroke=\"#000000\" d=\"M1420.6219,-88.9777C1412.1766,-79.8207 1403.0389,-69.9129 1394.5825,-60.744\"/>\n<polygon fill=\"#000000\" stroke=\"#000000\" points=\"1397.0221,-58.2266 1387.6696,-53.2485 1391.8764,-62.9723 1397.0221,-58.2266\"/>\n</g>\n<!-- 37 -->\n<g id=\"node38\" class=\"node\">\n<title>37</title>\n<polygon fill=\"none\" stroke=\"#000000\" points=\"1621,-53 1459,-53 1459,0 1621,0 1621,-53\"/>\n<text text-anchor=\"middle\" x=\"1540\" y=\"-37.8\" font-family=\"Times,serif\" font-size=\"14.00\" fill=\"#000000\">gini = 0.0</text>\n<text text-anchor=\"middle\" x=\"1540\" y=\"-22.8\" font-family=\"Times,serif\" font-size=\"14.00\" fill=\"#000000\">samples = 7</text>\n<text text-anchor=\"middle\" x=\"1540\" y=\"-7.8\" font-family=\"Times,serif\" font-size=\"14.00\" fill=\"#000000\">value = [0, 0, 0, 0, 0, 12]</text>\n</g>\n<!-- 35&#45;&gt;37 -->\n<g id=\"edge37\" class=\"edge\">\n<title>35&#45;&gt;37</title>\n<path fill=\"none\" stroke=\"#000000\" d=\"M1483.0255,-88.9777C1491.3759,-79.8207 1500.411,-69.9129 1508.7724,-60.744\"/>\n<polygon fill=\"#000000\" stroke=\"#000000\" points=\"1511.4556,-62.9959 1515.6076,-53.2485 1506.2833,-58.2791 1511.4556,-62.9959\"/>\n</g>\n<!-- 40 -->\n<g id=\"node41\" class=\"node\">\n<title>40</title>\n<polygon fill=\"none\" stroke=\"#000000\" points=\"1621,-469 1459,-469 1459,-401 1621,-401 1621,-469\"/>\n<text text-anchor=\"middle\" x=\"1540\" y=\"-453.8\" font-family=\"Times,serif\" font-size=\"14.00\" fill=\"#000000\">Radius(R/Ro) &lt;= 17.1</text>\n<text text-anchor=\"middle\" x=\"1540\" y=\"-438.8\" font-family=\"Times,serif\" font-size=\"14.00\" fill=\"#000000\">gini = 0.484</text>\n<text text-anchor=\"middle\" x=\"1540\" y=\"-423.8\" font-family=\"Times,serif\" font-size=\"14.00\" fill=\"#000000\">samples = 9</text>\n<text text-anchor=\"middle\" x=\"1540\" y=\"-408.8\" font-family=\"Times,serif\" font-size=\"14.00\" fill=\"#000000\">value = [0, 0, 0, 7, 10, 0]</text>\n</g>\n<!-- 39&#45;&gt;40 -->\n<g id=\"edge40\" class=\"edge\">\n<title>39&#45;&gt;40</title>\n<path fill=\"none\" stroke=\"#000000\" d=\"M1540,-504.9465C1540,-496.776 1540,-487.9318 1540,-479.3697\"/>\n<polygon fill=\"#000000\" stroke=\"#000000\" points=\"1543.5001,-479.13 1540,-469.13 1536.5001,-479.13 1543.5001,-479.13\"/>\n</g>\n<!-- 43 -->\n<g id=\"node44\" class=\"node\">\n<title>43</title>\n<polygon fill=\"none\" stroke=\"#000000\" points=\"1802,-469 1640,-469 1640,-401 1802,-401 1802,-469\"/>\n<text text-anchor=\"middle\" x=\"1721\" y=\"-453.8\" font-family=\"Times,serif\" font-size=\"14.00\" fill=\"#000000\">Radius(R/Ro) &lt;= 646.0</text>\n<text text-anchor=\"middle\" x=\"1721\" y=\"-438.8\" font-family=\"Times,serif\" font-size=\"14.00\" fill=\"#000000\">gini = 0.198</text>\n<text text-anchor=\"middle\" x=\"1721\" y=\"-423.8\" font-family=\"Times,serif\" font-size=\"14.00\" fill=\"#000000\">samples = 14</text>\n<text text-anchor=\"middle\" x=\"1721\" y=\"-408.8\" font-family=\"Times,serif\" font-size=\"14.00\" fill=\"#000000\">value = [0, 0, 0, 0, 16, 2]</text>\n</g>\n<!-- 39&#45;&gt;43 -->\n<g id=\"edge43\" class=\"edge\">\n<title>39&#45;&gt;43</title>\n<path fill=\"none\" stroke=\"#000000\" d=\"M1599.2662,-504.9465C1616.2986,-495.1599 1635.0134,-484.4066 1652.5517,-474.3294\"/>\n<polygon fill=\"#000000\" stroke=\"#000000\" points=\"1654.6738,-477.1468 1661.6007,-469.13 1651.1863,-471.0773 1654.6738,-477.1468\"/>\n</g>\n<!-- 41 -->\n<g id=\"node42\" class=\"node\">\n<title>41</title>\n<polygon fill=\"none\" stroke=\"#000000\" points=\"1441.5,-357.5 1286.5,-357.5 1286.5,-304.5 1441.5,-304.5 1441.5,-357.5\"/>\n<text text-anchor=\"middle\" x=\"1364\" y=\"-342.3\" font-family=\"Times,serif\" font-size=\"14.00\" fill=\"#000000\">gini = 0.0</text>\n<text text-anchor=\"middle\" x=\"1364\" y=\"-327.3\" font-family=\"Times,serif\" font-size=\"14.00\" fill=\"#000000\">samples = 3</text>\n<text text-anchor=\"middle\" x=\"1364\" y=\"-312.3\" font-family=\"Times,serif\" font-size=\"14.00\" fill=\"#000000\">value = [0, 0, 0, 7, 0, 0]</text>\n</g>\n<!-- 40&#45;&gt;41 -->\n<g id=\"edge41\" class=\"edge\">\n<title>40&#45;&gt;41</title>\n<path fill=\"none\" stroke=\"#000000\" d=\"M1482.371,-400.9465C1461.5867,-388.6649 1438.2261,-374.8609 1417.7835,-362.7811\"/>\n<polygon fill=\"#000000\" stroke=\"#000000\" points=\"1419.3074,-359.6163 1408.9175,-357.5422 1415.7462,-365.6428 1419.3074,-359.6163\"/>\n</g>\n<!-- 42 -->\n<g id=\"node43\" class=\"node\">\n<title>42</title>\n<polygon fill=\"none\" stroke=\"#000000\" points=\"1622,-357.5 1460,-357.5 1460,-304.5 1622,-304.5 1622,-357.5\"/>\n<text text-anchor=\"middle\" x=\"1541\" y=\"-342.3\" font-family=\"Times,serif\" font-size=\"14.00\" fill=\"#000000\">gini = 0.0</text>\n<text text-anchor=\"middle\" x=\"1541\" y=\"-327.3\" font-family=\"Times,serif\" font-size=\"14.00\" fill=\"#000000\">samples = 6</text>\n<text text-anchor=\"middle\" x=\"1541\" y=\"-312.3\" font-family=\"Times,serif\" font-size=\"14.00\" fill=\"#000000\">value = [0, 0, 0, 0, 10, 0]</text>\n</g>\n<!-- 40&#45;&gt;42 -->\n<g id=\"edge42\" class=\"edge\">\n<title>40&#45;&gt;42</title>\n<path fill=\"none\" stroke=\"#000000\" d=\"M1540.3274,-400.9465C1540.4302,-390.2621 1540.544,-378.4254 1540.6483,-367.5742\"/>\n<polygon fill=\"#000000\" stroke=\"#000000\" points=\"1544.1484,-367.5754 1540.7448,-357.5422 1537.1487,-367.508 1544.1484,-367.5754\"/>\n</g>\n<!-- 44 -->\n<g id=\"node45\" class=\"node\">\n<title>44</title>\n<polygon fill=\"none\" stroke=\"#000000\" points=\"1802,-357.5 1640,-357.5 1640,-304.5 1802,-304.5 1802,-357.5\"/>\n<text text-anchor=\"middle\" x=\"1721\" y=\"-342.3\" font-family=\"Times,serif\" font-size=\"14.00\" fill=\"#000000\">gini = 0.0</text>\n<text text-anchor=\"middle\" x=\"1721\" y=\"-327.3\" font-family=\"Times,serif\" font-size=\"14.00\" fill=\"#000000\">samples = 12</text>\n<text text-anchor=\"middle\" x=\"1721\" y=\"-312.3\" font-family=\"Times,serif\" font-size=\"14.00\" fill=\"#000000\">value = [0, 0, 0, 0, 16, 0]</text>\n</g>\n<!-- 43&#45;&gt;44 -->\n<g id=\"edge44\" class=\"edge\">\n<title>43&#45;&gt;44</title>\n<path fill=\"none\" stroke=\"#000000\" d=\"M1721,-400.9465C1721,-390.2621 1721,-378.4254 1721,-367.5742\"/>\n<polygon fill=\"#000000\" stroke=\"#000000\" points=\"1724.5001,-367.5421 1721,-357.5422 1717.5001,-367.5422 1724.5001,-367.5421\"/>\n</g>\n<!-- 45 -->\n<g id=\"node46\" class=\"node\">\n<title>45</title>\n<polygon fill=\"none\" stroke=\"#000000\" points=\"1975.5,-357.5 1820.5,-357.5 1820.5,-304.5 1975.5,-304.5 1975.5,-357.5\"/>\n<text text-anchor=\"middle\" x=\"1898\" y=\"-342.3\" font-family=\"Times,serif\" font-size=\"14.00\" fill=\"#000000\">gini = 0.0</text>\n<text text-anchor=\"middle\" x=\"1898\" y=\"-327.3\" font-family=\"Times,serif\" font-size=\"14.00\" fill=\"#000000\">samples = 2</text>\n<text text-anchor=\"middle\" x=\"1898\" y=\"-312.3\" font-family=\"Times,serif\" font-size=\"14.00\" fill=\"#000000\">value = [0, 0, 0, 0, 0, 2]</text>\n</g>\n<!-- 43&#45;&gt;45 -->\n<g id=\"edge45\" class=\"edge\">\n<title>43&#45;&gt;45</title>\n<path fill=\"none\" stroke=\"#000000\" d=\"M1778.9564,-400.9465C1799.9525,-388.6098 1823.5629,-374.7371 1844.1874,-362.6187\"/>\n<polygon fill=\"#000000\" stroke=\"#000000\" points=\"1845.9785,-365.6258 1852.8273,-357.5422 1842.4323,-359.5905 1845.9785,-365.6258\"/>\n</g>\n<!-- 47 -->\n<g id=\"node48\" class=\"node\">\n<title>47</title>\n<polygon fill=\"none\" stroke=\"#000000\" points=\"1825,-677 1655,-677 1655,-609 1825,-609 1825,-677\"/>\n<text text-anchor=\"middle\" x=\"1740\" y=\"-661.8\" font-family=\"Times,serif\" font-size=\"14.00\" fill=\"#000000\">Radius(R/Ro) &lt;= 2.752</text>\n<text text-anchor=\"middle\" x=\"1740\" y=\"-646.8\" font-family=\"Times,serif\" font-size=\"14.00\" fill=\"#000000\">gini = 0.621</text>\n<text text-anchor=\"middle\" x=\"1740\" y=\"-631.8\" font-family=\"Times,serif\" font-size=\"14.00\" fill=\"#000000\">samples = 28</text>\n<text text-anchor=\"middle\" x=\"1740\" y=\"-616.8\" font-family=\"Times,serif\" font-size=\"14.00\" fill=\"#000000\">value = [0, 0, 22, 12, 2, 6]</text>\n</g>\n<!-- 46&#45;&gt;47 -->\n<g id=\"edge47\" class=\"edge\">\n<title>46&#45;&gt;47</title>\n<path fill=\"none\" stroke=\"#000000\" d=\"M1740,-712.9465C1740,-704.776 1740,-695.9318 1740,-687.3697\"/>\n<polygon fill=\"#000000\" stroke=\"#000000\" points=\"1743.5001,-687.13 1740,-677.13 1736.5001,-687.13 1743.5001,-687.13\"/>\n</g>\n<!-- 56 -->\n<g id=\"node57\" class=\"node\">\n<title>56</title>\n<polygon fill=\"none\" stroke=\"#000000\" points=\"1998.5,-669.5 1843.5,-669.5 1843.5,-616.5 1998.5,-616.5 1998.5,-669.5\"/>\n<text text-anchor=\"middle\" x=\"1921\" y=\"-654.3\" font-family=\"Times,serif\" font-size=\"14.00\" fill=\"#000000\">gini = 0.0</text>\n<text text-anchor=\"middle\" x=\"1921\" y=\"-639.3\" font-family=\"Times,serif\" font-size=\"14.00\" fill=\"#000000\">samples = 1</text>\n<text text-anchor=\"middle\" x=\"1921\" y=\"-624.3\" font-family=\"Times,serif\" font-size=\"14.00\" fill=\"#000000\">value = [0, 0, 0, 3, 0, 0]</text>\n</g>\n<!-- 46&#45;&gt;56 -->\n<g id=\"edge56\" class=\"edge\">\n<title>46&#45;&gt;56</title>\n<path fill=\"none\" stroke=\"#000000\" d=\"M1799.2662,-712.9465C1820.7368,-700.6098 1844.8807,-686.7371 1865.9713,-674.6187\"/>\n<polygon fill=\"#000000\" stroke=\"#000000\" points=\"1867.8795,-677.5589 1874.8064,-669.5422 1864.3921,-671.4895 1867.8795,-677.5589\"/>\n</g>\n<!-- 48 -->\n<g id=\"node49\" class=\"node\">\n<title>48</title>\n<polygon fill=\"none\" stroke=\"#000000\" points=\"1821,-565.5 1659,-565.5 1659,-512.5 1821,-512.5 1821,-565.5\"/>\n<text text-anchor=\"middle\" x=\"1740\" y=\"-550.3\" font-family=\"Times,serif\" font-size=\"14.00\" fill=\"#000000\">gini = 0.0</text>\n<text text-anchor=\"middle\" x=\"1740\" y=\"-535.3\" font-family=\"Times,serif\" font-size=\"14.00\" fill=\"#000000\">samples = 13</text>\n<text text-anchor=\"middle\" x=\"1740\" y=\"-520.3\" font-family=\"Times,serif\" font-size=\"14.00\" fill=\"#000000\">value = [0, 0, 22, 0, 0, 0]</text>\n</g>\n<!-- 47&#45;&gt;48 -->\n<g id=\"edge48\" class=\"edge\">\n<title>47&#45;&gt;48</title>\n<path fill=\"none\" stroke=\"#000000\" d=\"M1740,-608.9465C1740,-598.2621 1740,-586.4254 1740,-575.5742\"/>\n<polygon fill=\"#000000\" stroke=\"#000000\" points=\"1743.5001,-575.5421 1740,-565.5422 1736.5001,-575.5422 1743.5001,-575.5421\"/>\n</g>\n<!-- 49 -->\n<g id=\"node50\" class=\"node\">\n<title>49</title>\n<polygon fill=\"none\" stroke=\"#000000\" points=\"2001,-573 1839,-573 1839,-505 2001,-505 2001,-573\"/>\n<text text-anchor=\"middle\" x=\"1920\" y=\"-557.8\" font-family=\"Times,serif\" font-size=\"14.00\" fill=\"#000000\">Radius(R/Ro) &lt;= 9.6</text>\n<text text-anchor=\"middle\" x=\"1920\" y=\"-542.8\" font-family=\"Times,serif\" font-size=\"14.00\" fill=\"#000000\">gini = 0.54</text>\n<text text-anchor=\"middle\" x=\"1920\" y=\"-527.8\" font-family=\"Times,serif\" font-size=\"14.00\" fill=\"#000000\">samples = 15</text>\n<text text-anchor=\"middle\" x=\"1920\" y=\"-512.8\" font-family=\"Times,serif\" font-size=\"14.00\" fill=\"#000000\">value = [0, 0, 0, 12, 2, 6]</text>\n</g>\n<!-- 47&#45;&gt;49 -->\n<g id=\"edge49\" class=\"edge\">\n<title>47&#45;&gt;49</title>\n<path fill=\"none\" stroke=\"#000000\" d=\"M1798.9387,-608.9465C1815.8771,-599.1599 1834.4885,-588.4066 1851.9299,-578.3294\"/>\n<polygon fill=\"#000000\" stroke=\"#000000\" points=\"1854.0212,-581.1634 1860.9289,-573.13 1850.5192,-575.1023 1854.0212,-581.1634\"/>\n</g>\n<!-- 50 -->\n<g id=\"node51\" class=\"node\">\n<title>50</title>\n<polygon fill=\"none\" stroke=\"#000000\" points=\"2000,-461.5 1838,-461.5 1838,-408.5 2000,-408.5 2000,-461.5\"/>\n<text text-anchor=\"middle\" x=\"1919\" y=\"-446.3\" font-family=\"Times,serif\" font-size=\"14.00\" fill=\"#000000\">gini = 0.0</text>\n<text text-anchor=\"middle\" x=\"1919\" y=\"-431.3\" font-family=\"Times,serif\" font-size=\"14.00\" fill=\"#000000\">samples = 9</text>\n<text text-anchor=\"middle\" x=\"1919\" y=\"-416.3\" font-family=\"Times,serif\" font-size=\"14.00\" fill=\"#000000\">value = [0, 0, 0, 12, 0, 0]</text>\n</g>\n<!-- 49&#45;&gt;50 -->\n<g id=\"edge50\" class=\"edge\">\n<title>49&#45;&gt;50</title>\n<path fill=\"none\" stroke=\"#000000\" d=\"M1919.6726,-504.9465C1919.5698,-494.2621 1919.456,-482.4254 1919.3517,-471.5742\"/>\n<polygon fill=\"#000000\" stroke=\"#000000\" points=\"1922.8513,-471.508 1919.2552,-461.5422 1915.8516,-471.5754 1922.8513,-471.508\"/>\n</g>\n<!-- 51 -->\n<g id=\"node52\" class=\"node\">\n<title>51</title>\n<polygon fill=\"none\" stroke=\"#000000\" points=\"2173.5,-469 2018.5,-469 2018.5,-401 2173.5,-401 2173.5,-469\"/>\n<text text-anchor=\"middle\" x=\"2096\" y=\"-453.8\" font-family=\"Times,serif\" font-size=\"14.00\" fill=\"#000000\">SC&#45;blue&#45;white &lt;= 0.5</text>\n<text text-anchor=\"middle\" x=\"2096\" y=\"-438.8\" font-family=\"Times,serif\" font-size=\"14.00\" fill=\"#000000\">gini = 0.375</text>\n<text text-anchor=\"middle\" x=\"2096\" y=\"-423.8\" font-family=\"Times,serif\" font-size=\"14.00\" fill=\"#000000\">samples = 6</text>\n<text text-anchor=\"middle\" x=\"2096\" y=\"-408.8\" font-family=\"Times,serif\" font-size=\"14.00\" fill=\"#000000\">value = [0, 0, 0, 0, 2, 6]</text>\n</g>\n<!-- 49&#45;&gt;51 -->\n<g id=\"edge51\" class=\"edge\">\n<title>49&#45;&gt;51</title>\n<path fill=\"none\" stroke=\"#000000\" d=\"M1977.629,-504.9465C1994.1909,-495.1599 2012.3888,-484.4066 2029.4425,-474.3294\"/>\n<polygon fill=\"#000000\" stroke=\"#000000\" points=\"2031.4128,-477.2306 2038.2415,-469.13 2027.8517,-471.2041 2031.4128,-477.2306\"/>\n</g>\n<!-- 52 -->\n<g id=\"node53\" class=\"node\">\n<title>52</title>\n<polygon fill=\"none\" stroke=\"#000000\" points=\"2197,-365 1995,-365 1995,-297 2197,-297 2197,-365\"/>\n<text text-anchor=\"middle\" x=\"2096\" y=\"-349.8\" font-family=\"Times,serif\" font-size=\"14.00\" fill=\"#000000\">Luminosity(L/Lo) &lt;= 278000.0</text>\n<text text-anchor=\"middle\" x=\"2096\" y=\"-334.8\" font-family=\"Times,serif\" font-size=\"14.00\" fill=\"#000000\">gini = 0.444</text>\n<text text-anchor=\"middle\" x=\"2096\" y=\"-319.8\" font-family=\"Times,serif\" font-size=\"14.00\" fill=\"#000000\">samples = 2</text>\n<text text-anchor=\"middle\" x=\"2096\" y=\"-304.8\" font-family=\"Times,serif\" font-size=\"14.00\" fill=\"#000000\">value = [0, 0, 0, 0, 2, 1]</text>\n</g>\n<!-- 51&#45;&gt;52 -->\n<g id=\"edge52\" class=\"edge\">\n<title>51&#45;&gt;52</title>\n<path fill=\"none\" stroke=\"#000000\" d=\"M2096,-400.9465C2096,-392.776 2096,-383.9318 2096,-375.3697\"/>\n<polygon fill=\"#000000\" stroke=\"#000000\" points=\"2099.5001,-375.13 2096,-365.13 2092.5001,-375.13 2099.5001,-375.13\"/>\n</g>\n<!-- 55 -->\n<g id=\"node56\" class=\"node\">\n<title>55</title>\n<polygon fill=\"none\" stroke=\"#000000\" points=\"2370.5,-357.5 2215.5,-357.5 2215.5,-304.5 2370.5,-304.5 2370.5,-357.5\"/>\n<text text-anchor=\"middle\" x=\"2293\" y=\"-342.3\" font-family=\"Times,serif\" font-size=\"14.00\" fill=\"#000000\">gini = 0.0</text>\n<text text-anchor=\"middle\" x=\"2293\" y=\"-327.3\" font-family=\"Times,serif\" font-size=\"14.00\" fill=\"#000000\">samples = 4</text>\n<text text-anchor=\"middle\" x=\"2293\" y=\"-312.3\" font-family=\"Times,serif\" font-size=\"14.00\" fill=\"#000000\">value = [0, 0, 0, 0, 0, 5]</text>\n</g>\n<!-- 51&#45;&gt;55 -->\n<g id=\"edge55\" class=\"edge\">\n<title>51&#45;&gt;55</title>\n<path fill=\"none\" stroke=\"#000000\" d=\"M2160.5052,-400.9465C2184.0824,-388.4997 2210.6214,-374.4892 2233.7209,-362.2946\"/>\n<polygon fill=\"#000000\" stroke=\"#000000\" points=\"2235.5137,-365.3059 2242.723,-357.5422 2232.2457,-359.1156 2235.5137,-365.3059\"/>\n</g>\n<!-- 53 -->\n<g id=\"node54\" class=\"node\">\n<title>53</title>\n<polygon fill=\"none\" stroke=\"#000000\" points=\"2086.5,-253.5 1931.5,-253.5 1931.5,-200.5 2086.5,-200.5 2086.5,-253.5\"/>\n<text text-anchor=\"middle\" x=\"2009\" y=\"-238.3\" font-family=\"Times,serif\" font-size=\"14.00\" fill=\"#000000\">gini = 0.0</text>\n<text text-anchor=\"middle\" x=\"2009\" y=\"-223.3\" font-family=\"Times,serif\" font-size=\"14.00\" fill=\"#000000\">samples = 1</text>\n<text text-anchor=\"middle\" x=\"2009\" y=\"-208.3\" font-family=\"Times,serif\" font-size=\"14.00\" fill=\"#000000\">value = [0, 0, 0, 0, 2, 0]</text>\n</g>\n<!-- 52&#45;&gt;53 -->\n<g id=\"edge53\" class=\"edge\">\n<title>52&#45;&gt;53</title>\n<path fill=\"none\" stroke=\"#000000\" d=\"M2067.5129,-296.9465C2057.93,-285.491 2047.239,-272.711 2037.6441,-261.2412\"/>\n<polygon fill=\"#000000\" stroke=\"#000000\" points=\"2040.3045,-258.9666 2031.2035,-253.5422 2034.9354,-263.458 2040.3045,-258.9666\"/>\n</g>\n<!-- 54 -->\n<g id=\"node55\" class=\"node\">\n<title>54</title>\n<polygon fill=\"none\" stroke=\"#000000\" points=\"2259.5,-253.5 2104.5,-253.5 2104.5,-200.5 2259.5,-200.5 2259.5,-253.5\"/>\n<text text-anchor=\"middle\" x=\"2182\" y=\"-238.3\" font-family=\"Times,serif\" font-size=\"14.00\" fill=\"#000000\">gini = 0.0</text>\n<text text-anchor=\"middle\" x=\"2182\" y=\"-223.3\" font-family=\"Times,serif\" font-size=\"14.00\" fill=\"#000000\">samples = 1</text>\n<text text-anchor=\"middle\" x=\"2182\" y=\"-208.3\" font-family=\"Times,serif\" font-size=\"14.00\" fill=\"#000000\">value = [0, 0, 0, 0, 0, 1]</text>\n</g>\n<!-- 52&#45;&gt;54 -->\n<g id=\"edge54\" class=\"edge\">\n<title>52&#45;&gt;54</title>\n<path fill=\"none\" stroke=\"#000000\" d=\"M2124.1596,-296.9465C2133.5413,-285.6012 2143.9973,-272.9567 2153.4113,-261.5724\"/>\n<polygon fill=\"#000000\" stroke=\"#000000\" points=\"2156.3763,-263.4791 2160.0517,-253.5422 2150.9817,-259.0182 2156.3763,-263.4791\"/>\n</g>\n</g>\n</svg>\n",
            "text/plain": [
              "<graphviz.files.Source at 0x7f4efbcc8950>"
            ]
          },
          "execution_count": 199,
          "metadata": {
            "tags": []
          },
          "output_type": "execute_result"
        }
      ],
      "source": [
        "#visualize a tree of the 100 tree forest (100 is the default number of trees created)\n",
        "#Change the number after forestDefault, starting from 0.\n",
        "with open(\"forestDefault0.dot\") as f:\n",
        "    dot_graph = f.read()\n",
        "graphviz.Source(dot_graph)"
      ]
    },
    {
      "cell_type": "code",
      "execution_count": null,
      "metadata": {
        "id": "zdob0Ekn2cDT"
      },
      "outputs": [],
      "source": [
        "#Remove those files\n",
        "!rm *.dot"
      ]
    },
    {
      "cell_type": "markdown",
      "metadata": {
        "id": "D-2aLzX12eR_"
      },
      "source": [
        "Our trees are very deep and on a different dataset we may have actually overfit. So let's find a value of max_depth that is small and we retain our good accuracy."
      ]
    },
    {
      "cell_type": "code",
      "execution_count": null,
      "metadata": {
        "id": "dsT8qiHx2fl5"
      },
      "outputs": [],
      "source": [
        "maxdepthvalues = [3,4,6,7,8,9,10]\n",
        "totalScoreOfDepth = [[],[],[],[],[],[],[]]\n",
        "#This will take about 2 minutes and 30 seconds\n",
        "for i in range(101):\n",
        "  for depth in maxdepthvalues:\n",
        "    forestDepth = RandomForestClassifier(max_depth=depth,oob_score=True)\n",
        "    forestDepth.fit(X,Y)\n",
        "    totalScoreOfDepth[maxdepthvalues.index(depth)].append(forestDepth.oob_score_)"
      ]
    },
    {
      "cell_type": "code",
      "execution_count": null,
      "metadata": {
        "colab": {
          "base_uri": "https://localhost:8080/"
        },
        "id": "fu8eqbdd2hnE",
        "outputId": "e4b4fe4f-30a9-4319-cfb7-0ad76ffc082b"
      },
      "outputs": [
        {
          "name": "stdout",
          "output_type": "stream",
          "text": [
            "Average OOB score of depth 3: 0.8937706270627063\n",
            "Average OOB score of depth 4: 0.9473597359735973\n",
            "Average OOB score of depth 6: 0.9684818481848185\n",
            "Average OOB score of depth 7: 0.9686881188118812\n",
            "Average OOB score of depth 8: 0.9681930693069307\n",
            "Average OOB score of depth 9: 0.9669554455445545\n",
            "Average OOB score of depth 10: 0.9683168316831683\n"
          ]
        }
      ],
      "source": [
        "averageScoreOfDepth = [0,0,0,0,0,0,0]\n",
        "for i in range(len(totalScoreOfDepth)):\n",
        "  averageScoreOfDepth[i] = mean(totalScoreOfDepth[i])\n",
        "  print(\"Average OOB score of depth {0}: {1}\".format(maxdepthvalues[i],averageScoreOfDepth[i]))"
      ]
    },
    {
      "cell_type": "markdown",
      "metadata": {
        "id": "5R1EJA_B3CEg"
      },
      "source": [
        "We can see that at depth 6 we are getting a similar average OOB score as when we had a depth of 100. We can next tune the number of trees generated. With more trees we could be more accurate without the fear of overfit however it will take longer to generate more trees."
      ]
    },
    {
      "cell_type": "code",
      "execution_count": null,
      "metadata": {
        "id": "i2yUknyE3E7j"
      },
      "outputs": [],
      "source": [
        "numtrees = [50,60,70,100,500,1000]\n",
        "totalScoreOfTrees = [[],[],[],[],[],[]]\n",
        "\n",
        "#This will take about 6 minutes\n",
        "for i in range(101):\n",
        "  for num in numtrees:\n",
        "    forestDepth = RandomForestClassifier(max_depth=6,oob_score=True,n_estimators=num)\n",
        "    forestDepth.fit(X,Y)\n",
        "    totalScoreOfTrees[numtrees.index(num)].append(forestDepth.oob_score_)"
      ]
    },
    {
      "cell_type": "code",
      "execution_count": null,
      "metadata": {
        "colab": {
          "base_uri": "https://localhost:8080/"
        },
        "id": "aExW0Tb33KFu",
        "outputId": "ea1d59c3-ac1e-4503-cb56-d23d5e010136"
      },
      "outputs": [
        {
          "name": "stdout",
          "output_type": "stream",
          "text": [
            "Average OOB score of 50 trees: 0.9650577557755776\n",
            "Average OOB score of 60 trees: 0.9660478547854786\n",
            "Average OOB score of 70 trees: 0.9668729372937294\n",
            "Average OOB score of 100 trees: 0.969513201320132\n",
            "Average OOB score of 500 trees: 0.9718234323432343\n",
            "Average OOB score of 1000 trees: 0.9723184818481848\n"
          ]
        }
      ],
      "source": [
        "averageScoreOfTrees = [0,0,0,0,0,0]\n",
        "for i in range(len(totalScoreOfTrees)):\n",
        "  averageScoreOfTrees[i] = mean(totalScoreOfTrees[i])\n",
        "  print(\"Average OOB score of {0} trees: {1}\".format(numtrees[i],averageScoreOfTrees[i]))"
      ]
    },
    {
      "cell_type": "markdown",
      "metadata": {
        "id": "CV-7n3EcftZt"
      },
      "source": [
        "It looks like we can improve our score with 500 trees. Lets see if there is a value between 100 and 500 that is about as accurate as 500 trees."
      ]
    },
    {
      "cell_type": "code",
      "execution_count": null,
      "metadata": {
        "id": "ZnC_3Lik4eXe"
      },
      "outputs": [],
      "source": [
        "numtrees = [200,300,400]\n",
        "totalScoreOfTrees = [[],[],[]]\n",
        "\n",
        "#This will take about 3 minutes\n",
        "for i in range(101):\n",
        "  for num in numtrees:\n",
        "    forestDepth = RandomForestClassifier(max_depth=6,oob_score=True,n_estimators=num)\n",
        "    forestDepth.fit(X,Y)\n",
        "    totalScoreOfTrees[numtrees.index(num)].append(forestDepth.oob_score_)"
      ]
    },
    {
      "cell_type": "code",
      "execution_count": null,
      "metadata": {
        "id": "olmIVu_n4hDA"
      },
      "outputs": [],
      "source": [
        "averageScoreOfTrees = [0,0,0]\n",
        "for i in range(len(totalScoreOfTrees)):\n",
        "  averageScoreOfTrees[i] = mean(totalScoreOfTrees[i])\n",
        "  print(\"Average OOB score of {0} trees: {1}\".format(numtrees[i],averageScoreOfTrees[i]))"
      ]
    },
    {
      "cell_type": "markdown",
      "metadata": {
        "id": "niIMNo8X5KN2"
      },
      "source": [
        "It appears that 400 trees is about as accurate as 500 trees but it's not that large of an additional time that 500 is acceptable. At the very end a model trained with a max depth of 6 and 500 trees is about 97% accurate which is similar to the average score with no tuning. "
      ]
    },
    {
      "cell_type": "code",
      "execution_count": null,
      "metadata": {
        "id": "BanEBg-Z5LDO"
      },
      "outputs": [],
      "source": [
        "import matplotlib.pyplot as plt\n",
        "import numpy as np\n",
        "bestModel = RandomForestClassifier(max_depth=6,n_estimators=500,oob_score=True)\n",
        "bestModel.fit(X,Y)\n",
        "print(\"Out of Bag score: \",bestModel.oob_score_)\n",
        "#There is no provided predictions list by the classifier so we must create our own to find metrics\n",
        "predictions= np.empty(shape=Y.shape)\n",
        "observationCounter=0\n",
        "for observation in bestModel.oob_decision_function_:\n",
        "  #Predict that star is class of highest probability\n",
        "  #If a tie occurs the first class in the array wins\n",
        "  observation = observation.tolist()\n",
        "  predictions[observationCounter] = observation.index(max(observation))\n",
        "  observationCounter += 1\n",
        "\n",
        "#confusion matrx\n",
        "confusionMatrix = confusion_matrix(Y,predictions)\n",
        "seabornmap = sns.heatmap(confusionMatrix,annot=True,\n",
        "      xticklabels=['Brown Dwarf','Red Dwarf','White Dwarf','Main Sequence','Supergiant','Hypergiant'],\n",
        "      yticklabels=['Brown Dwarf','Red Dwarf','White Dwarf','Main Sequence','Supergiant','Hypergiant'])\n",
        "print(\"Confusion Matrix:\\n\",seabornmap)\n",
        "\n",
        "#Most important Features\n",
        "importances = bestModel.feature_importances_\n",
        "std = np.std([bestModel.feature_importances_ for tree in bestModel.estimators_],\n",
        "             axis=0)\n",
        "indices = np.argsort(importances)[::-1]\n",
        "\n",
        "# Print the feature ranking\n",
        "print(\"Feature ranking:\")\n",
        "\n",
        "for f in range(X.shape[1]):\n",
        "    print(\"%d. feature %d (%f)\" % (f + 1, indices[f], importances[indices[f]]))\n",
        "\n",
        "features = X.columns\n",
        "importances = bestModel.feature_importances_\n",
        "indices = np.argsort(importances)\n",
        "\n",
        "plt.figure()\n",
        "plt.title('Feature Importances')\n",
        "plt.barh(range(len(indices)), importances[indices], color='b', align='center')\n",
        "plt.yticks(range(len(indices)), [features[i] for i in indices])\n",
        "plt.xlabel('Relative Importance')\n",
        "plt.show()"
      ]
    },
    {
      "cell_type": "markdown",
      "metadata": {
        "id": "I5o3-sz_5Oio"
      },
      "source": [
        "# Random Forest HR Diagram Predictors\n"
      ]
    },
    {
      "cell_type": "markdown",
      "metadata": {
        "id": "AFEW6XFx5QK1"
      },
      "source": [
        "Now let's train a random forest on the HR diagram values.\n",
        "First setup the data."
      ]
    },
    {
      "cell_type": "code",
      "execution_count": null,
      "metadata": {
        "colab": {
          "base_uri": "https://localhost:8080/",
          "height": 204
        },
        "id": "w8irPE8V5Rd7",
        "outputId": "a7e78a18-f848-47cd-d31c-4b9414ee16b9"
      },
      "outputs": [
        {
          "data": {
            "text/html": [
              "<div>\n",
              "<style scoped>\n",
              "    .dataframe tbody tr th:only-of-type {\n",
              "        vertical-align: middle;\n",
              "    }\n",
              "\n",
              "    .dataframe tbody tr th {\n",
              "        vertical-align: top;\n",
              "    }\n",
              "\n",
              "    .dataframe thead th {\n",
              "        text-align: right;\n",
              "    }\n",
              "</style>\n",
              "<table border=\"1\" class=\"dataframe\">\n",
              "  <thead>\n",
              "    <tr style=\"text-align: right;\">\n",
              "      <th></th>\n",
              "      <th>Temperature (K)</th>\n",
              "      <th>Absolute magnitude(Mv)</th>\n",
              "    </tr>\n",
              "  </thead>\n",
              "  <tbody>\n",
              "    <tr>\n",
              "      <th>0</th>\n",
              "      <td>3068</td>\n",
              "      <td>16.12</td>\n",
              "    </tr>\n",
              "    <tr>\n",
              "      <th>1</th>\n",
              "      <td>3042</td>\n",
              "      <td>16.60</td>\n",
              "    </tr>\n",
              "    <tr>\n",
              "      <th>2</th>\n",
              "      <td>2600</td>\n",
              "      <td>18.70</td>\n",
              "    </tr>\n",
              "    <tr>\n",
              "      <th>3</th>\n",
              "      <td>2800</td>\n",
              "      <td>16.65</td>\n",
              "    </tr>\n",
              "    <tr>\n",
              "      <th>4</th>\n",
              "      <td>1939</td>\n",
              "      <td>20.06</td>\n",
              "    </tr>\n",
              "  </tbody>\n",
              "</table>\n",
              "</div>"
            ],
            "text/plain": [
              "   Temperature (K)  Absolute magnitude(Mv)\n",
              "0             3068                   16.12\n",
              "1             3042                   16.60\n",
              "2             2600                   18.70\n",
              "3             2800                   16.65\n",
              "4             1939                   20.06"
            ]
          },
          "execution_count": 242,
          "metadata": {
            "tags": []
          },
          "output_type": "execute_result"
        }
      ],
      "source": [
        "X2 = df.copy()\n",
        "Y2 = X2['Star type']\n",
        "\n",
        "X2 = X2.drop(columns=['Star type','Luminosity(L/Lo)','Radius(R/Ro)','Star color','Spectral Class'])\n",
        "X2.head()"
      ]
    },
    {
      "cell_type": "markdown",
      "metadata": {
        "id": "-0H8ZECN5T5v"
      },
      "source": [
        "Let's use the default parameters"
      ]
    },
    {
      "cell_type": "code",
      "execution_count": null,
      "metadata": {
        "colab": {
          "base_uri": "https://localhost:8080/",
          "height": 924
        },
        "id": "EWx-Rbwp5UrZ",
        "outputId": "30e8474a-ce24-4704-fbcc-3c152cc53d3d"
      },
      "outputs": [
        {
          "name": "stdout",
          "output_type": "stream",
          "text": [
            "OOB:  1.0\n",
            "Confusion Matrix:\n",
            " AxesSubplot(0.125,0.125;0.62x0.755)\n",
            "Decision Boundary\n"
          ]
        },
        {
          "name": "stderr",
          "output_type": "stream",
          "text": [
            "/usr/local/lib/python3.7/dist-packages/mlxtend/plotting/decision_regions.py:244: MatplotlibDeprecationWarning: Passing unsupported keyword arguments to axis() will raise a TypeError in 3.3.\n",
            "  ax.axis(xmin=xx.min(), xmax=xx.max(), y_min=yy.min(), y_max=yy.max())\n"
          ]
        },
        {
          "data": {
            "image/png": "[encoded data removed]",
            "text/plain": [
              "<Figure size 432x288 with 2 Axes>"
            ]
          },
          "metadata": {
            "tags": []
          },
          "output_type": "display_data"
        },
        {
          "data": {
            "image/png": "[encoded data removed]",
            "text/plain": [
              "<Figure size 720x576 with 1 Axes>"
            ]
          },
          "metadata": {
            "tags": []
          },
          "output_type": "display_data"
        }
      ],
      "source": [
        "from mlxtend.plotting import plot_decision_regions\n",
        "import matplotlib.pyplot as plt\n",
        "forestHRDefault = RandomForestClassifier(oob_score=True)\n",
        "forestHRDefault.fit(X2,Y2)\n",
        "print(\"OOB: \",forestHRDefault.oob_score_)\n",
        "\n",
        "#There is no provided predictions list by the classifier so we must create our own to find metrics\n",
        "predictionsHR= np.empty(shape=Y2.shape)\n",
        "observationCounter=0\n",
        "for observation in forestHRDefault.oob_decision_function_:\n",
        "  #Predict that star is class of highest probability\n",
        "  #If a tie occurs the first class in the array wins\n",
        "  observation = observation.tolist()\n",
        "  predictionsHR[observationCounter] = observation.index(max(observation))\n",
        "  observationCounter += 1\n",
        "\n",
        "#confusion matrx\n",
        "confusionMatrix = confusion_matrix(Y2,predictionsHR)\n",
        "seabornmap = sns.heatmap(confusionMatrix,annot=True,\n",
        "      xticklabels=['Brown Dwarf','Red Dwarf','White Dwarf','Main Sequence','Supergiant','Hypergiant'],\n",
        "      yticklabels=['Brown Dwarf','Red Dwarf','White Dwarf','Main Sequence','Supergiant','Hypergiant'])\n",
        "print(\"Confusion Matrix:\\n\",seabornmap)\n",
        "\n",
        "print(\"Decision Boundary\")\n",
        "fig = plt.figure(figsize=(10,8))\n",
        "fig = plot_decision_regions(X=X2.to_numpy(), y=Y2.to_numpy(), clf=forestHRDefault, legend=1)"
      ]
    },
    {
      "cell_type": "markdown",
      "metadata": {
        "id": "W4xYdD0S5hJX"
      },
      "source": [
        "We seem to be getting better scores closer to 100% but let's get an average"
      ]
    },
    {
      "cell_type": "code",
      "execution_count": null,
      "metadata": {
        "colab": {
          "base_uri": "https://localhost:8080/"
        },
        "id": "eQdfvTa05is4",
        "outputId": "21ef7136-5020-440d-976d-f510d2a45abe"
      },
      "outputs": [
        {
          "name": "stdout",
          "output_type": "stream",
          "text": [
            "Average OOB Score:  0.9977310231023102\n"
          ]
        }
      ],
      "source": [
        "#Let's do this 100 times\n",
        "averageOOBHR = [];\n",
        "for i in range(101):\n",
        "  forestHRDefault.fit(X2,Y2)\n",
        "  averageOOBHR.append(forestHRDefault.oob_score_)\n",
        "averageOOBHR = mean(averageOOBHR)\n",
        "\n",
        "print(\"Average OOB Score: \", averageOOBHR)"
      ]
    },
    {
      "cell_type": "markdown",
      "metadata": {
        "id": "Fc2d9f9p5qEM"
      },
      "source": [
        "On average we have a 99% OOB score. But remember we have very deep trees which can lead to overfit."
      ]
    },
    {
      "cell_type": "code",
      "execution_count": null,
      "metadata": {
        "id": "2G3AS_TL5r7g"
      },
      "outputs": [],
      "source": [
        "maxdepthvalues = [3,4,6,7,8,9,10]\n",
        "totalScoreOfDepth = [[],[],[],[],[],[],[]]\n",
        "#This will take about 2 minutes and 30 seconds\n",
        "for i in range(101):\n",
        "  for depth in maxdepthvalues:\n",
        "    forestDepth = RandomForestClassifier(max_depth=depth,oob_score=True)\n",
        "    forestDepth.fit(X2,Y2)\n",
        "    totalScoreOfDepth[maxdepthvalues.index(depth)].append(forestDepth.oob_score_)"
      ]
    },
    {
      "cell_type": "code",
      "execution_count": null,
      "metadata": {
        "colab": {
          "base_uri": "https://localhost:8080/"
        },
        "id": "lPi6XTJz5tM6",
        "outputId": "d43f426e-dab1-4b47-ee8a-14ff808f36f5"
      },
      "outputs": [
        {
          "name": "stdout",
          "output_type": "stream",
          "text": [
            "Average OOB score of depth 3: 0.9749587458745874\n",
            "Average OOB score of depth 4: 0.9965759075907591\n",
            "Average OOB score of depth 6: 0.9980610561056106\n",
            "Average OOB score of depth 7: 0.9984323432343234\n",
            "Average OOB score of depth 8: 0.9983085808580858\n",
            "Average OOB score of depth 9: 0.9975660066006601\n",
            "Average OOB score of depth 10: 0.9978135313531353\n"
          ]
        }
      ],
      "source": [
        "averageScoreOfDepth = [0,0,0,0,0,0,0]\n",
        "for i in range(len(totalScoreOfDepth)):\n",
        "  averageScoreOfDepth[i] = mean(totalScoreOfDepth[i])\n",
        "  print(\"Average OOB score of depth {0}: {1}\".format(maxdepthvalues[i],averageScoreOfDepth[i]))"
      ]
    },
    {
      "cell_type": "markdown",
      "metadata": {
        "id": "tji50pK86NLV"
      },
      "source": [
        "It looks like at a depth of 4 we are still getting 99% average OOB score. We might choose to use a depth of 3 out of concern of overfit. Like before let's tune the number of trees."
      ]
    },
    {
      "cell_type": "code",
      "execution_count": null,
      "metadata": {
        "colab": {
          "background_save": true
        },
        "id": "sTSz6ygc6U60",
        "outputId": "f30d3e4a-8c94-4fc8-d099-0dd8f67ef54f"
      },
      "outputs": [
        {
          "ename": "KeyboardInterrupt",
          "evalue": "ignored",
          "output_type": "error",
          "traceback": [
            "\u001b[0;31m---------------------------------------------------------------------------\u001b[0m",
            "\u001b[0;31mKeyboardInterrupt\u001b[0m                         Traceback (most recent call last)",
            "\u001b[0;32m<ipython-input-255-306626385d37>\u001b[0m in \u001b[0;36m<module>\u001b[0;34m()\u001b[0m\n\u001b[1;32m      6\u001b[0m   \u001b[0;32mfor\u001b[0m \u001b[0mnum\u001b[0m \u001b[0;32min\u001b[0m \u001b[0mnumtrees\u001b[0m\u001b[0;34m:\u001b[0m\u001b[0;34m\u001b[0m\u001b[0;34m\u001b[0m\u001b[0m\n\u001b[1;32m      7\u001b[0m     \u001b[0mforestDepth\u001b[0m \u001b[0;34m=\u001b[0m \u001b[0mRandomForestClassifier\u001b[0m\u001b[0;34m(\u001b[0m\u001b[0mmax_depth\u001b[0m\u001b[0;34m=\u001b[0m\u001b[0;36m4\u001b[0m\u001b[0;34m,\u001b[0m\u001b[0moob_score\u001b[0m\u001b[0;34m=\u001b[0m\u001b[0;32mTrue\u001b[0m\u001b[0;34m,\u001b[0m\u001b[0mn_estimators\u001b[0m\u001b[0;34m=\u001b[0m\u001b[0mnum\u001b[0m\u001b[0;34m)\u001b[0m\u001b[0;34m\u001b[0m\u001b[0;34m\u001b[0m\u001b[0m\n\u001b[0;32m----> 8\u001b[0;31m     \u001b[0mforestDepth\u001b[0m\u001b[0;34m.\u001b[0m\u001b[0mfit\u001b[0m\u001b[0;34m(\u001b[0m\u001b[0mX2\u001b[0m\u001b[0;34m,\u001b[0m\u001b[0mY2\u001b[0m\u001b[0;34m)\u001b[0m\u001b[0;34m\u001b[0m\u001b[0;34m\u001b[0m\u001b[0m\n\u001b[0m\u001b[1;32m      9\u001b[0m     \u001b[0mtotalScoreOfTrees\u001b[0m\u001b[0;34m[\u001b[0m\u001b[0mnumtrees\u001b[0m\u001b[0;34m.\u001b[0m\u001b[0mindex\u001b[0m\u001b[0;34m(\u001b[0m\u001b[0mnum\u001b[0m\u001b[0;34m)\u001b[0m\u001b[0;34m]\u001b[0m\u001b[0;34m.\u001b[0m\u001b[0mappend\u001b[0m\u001b[0;34m(\u001b[0m\u001b[0mforestDepth\u001b[0m\u001b[0;34m.\u001b[0m\u001b[0moob_score_\u001b[0m\u001b[0;34m)\u001b[0m\u001b[0;34m\u001b[0m\u001b[0;34m\u001b[0m\u001b[0m\n",
            "\u001b[0;32m/usr/local/lib/python3.7/dist-packages/sklearn/ensemble/_forest.py\u001b[0m in \u001b[0;36mfit\u001b[0;34m(self, X, y, sample_weight)\u001b[0m\n\u001b[1;32m    381\u001b[0m                     \u001b[0mverbose\u001b[0m\u001b[0;34m=\u001b[0m\u001b[0mself\u001b[0m\u001b[0;34m.\u001b[0m\u001b[0mverbose\u001b[0m\u001b[0;34m,\u001b[0m \u001b[0mclass_weight\u001b[0m\u001b[0;34m=\u001b[0m\u001b[0mself\u001b[0m\u001b[0;34m.\u001b[0m\u001b[0mclass_weight\u001b[0m\u001b[0;34m,\u001b[0m\u001b[0;34m\u001b[0m\u001b[0;34m\u001b[0m\u001b[0m\n\u001b[1;32m    382\u001b[0m                     n_samples_bootstrap=n_samples_bootstrap)\n\u001b[0;32m--> 383\u001b[0;31m                 for i, t in enumerate(trees))\n\u001b[0m\u001b[1;32m    384\u001b[0m \u001b[0;34m\u001b[0m\u001b[0m\n\u001b[1;32m    385\u001b[0m             \u001b[0;31m# Collect newly grown trees\u001b[0m\u001b[0;34m\u001b[0m\u001b[0;34m\u001b[0m\u001b[0;34m\u001b[0m\u001b[0m\n",
            "\u001b[0;32m/usr/local/lib/python3.7/dist-packages/joblib/parallel.py\u001b[0m in \u001b[0;36m__call__\u001b[0;34m(self, iterable)\u001b[0m\n\u001b[1;32m   1042\u001b[0m                 \u001b[0mself\u001b[0m\u001b[0;34m.\u001b[0m\u001b[0m_iterating\u001b[0m \u001b[0;34m=\u001b[0m \u001b[0mself\u001b[0m\u001b[0;34m.\u001b[0m\u001b[0m_original_iterator\u001b[0m \u001b[0;32mis\u001b[0m \u001b[0;32mnot\u001b[0m \u001b[0;32mNone\u001b[0m\u001b[0;34m\u001b[0m\u001b[0;34m\u001b[0m\u001b[0m\n\u001b[1;32m   1043\u001b[0m \u001b[0;34m\u001b[0m\u001b[0m\n\u001b[0;32m-> 1044\u001b[0;31m             \u001b[0;32mwhile\u001b[0m \u001b[0mself\u001b[0m\u001b[0;34m.\u001b[0m\u001b[0mdispatch_one_batch\u001b[0m\u001b[0;34m(\u001b[0m\u001b[0miterator\u001b[0m\u001b[0;34m)\u001b[0m\u001b[0;34m:\u001b[0m\u001b[0;34m\u001b[0m\u001b[0;34m\u001b[0m\u001b[0m\n\u001b[0m\u001b[1;32m   1045\u001b[0m                 \u001b[0;32mpass\u001b[0m\u001b[0;34m\u001b[0m\u001b[0;34m\u001b[0m\u001b[0m\n\u001b[1;32m   1046\u001b[0m \u001b[0;34m\u001b[0m\u001b[0m\n",
            "\u001b[0;32m/usr/local/lib/python3.7/dist-packages/joblib/parallel.py\u001b[0m in \u001b[0;36mdispatch_one_batch\u001b[0;34m(self, iterator)\u001b[0m\n\u001b[1;32m    857\u001b[0m                 \u001b[0;32mreturn\u001b[0m \u001b[0;32mFalse\u001b[0m\u001b[0;34m\u001b[0m\u001b[0;34m\u001b[0m\u001b[0m\n\u001b[1;32m    858\u001b[0m             \u001b[0;32melse\u001b[0m\u001b[0;34m:\u001b[0m\u001b[0;34m\u001b[0m\u001b[0;34m\u001b[0m\u001b[0m\n\u001b[0;32m--> 859\u001b[0;31m                 \u001b[0mself\u001b[0m\u001b[0;34m.\u001b[0m\u001b[0m_dispatch\u001b[0m\u001b[0;34m(\u001b[0m\u001b[0mtasks\u001b[0m\u001b[0;34m)\u001b[0m\u001b[0;34m\u001b[0m\u001b[0;34m\u001b[0m\u001b[0m\n\u001b[0m\u001b[1;32m    860\u001b[0m                 \u001b[0;32mreturn\u001b[0m \u001b[0;32mTrue\u001b[0m\u001b[0;34m\u001b[0m\u001b[0;34m\u001b[0m\u001b[0m\n\u001b[1;32m    861\u001b[0m \u001b[0;34m\u001b[0m\u001b[0m\n",
            "\u001b[0;32m/usr/local/lib/python3.7/dist-packages/joblib/parallel.py\u001b[0m in \u001b[0;36m_dispatch\u001b[0;34m(self, batch)\u001b[0m\n\u001b[1;32m    775\u001b[0m         \u001b[0;32mwith\u001b[0m \u001b[0mself\u001b[0m\u001b[0;34m.\u001b[0m\u001b[0m_lock\u001b[0m\u001b[0;34m:\u001b[0m\u001b[0;34m\u001b[0m\u001b[0;34m\u001b[0m\u001b[0m\n\u001b[1;32m    776\u001b[0m             \u001b[0mjob_idx\u001b[0m \u001b[0;34m=\u001b[0m \u001b[0mlen\u001b[0m\u001b[0;34m(\u001b[0m\u001b[0mself\u001b[0m\u001b[0;34m.\u001b[0m\u001b[0m_jobs\u001b[0m\u001b[0;34m)\u001b[0m\u001b[0;34m\u001b[0m\u001b[0;34m\u001b[0m\u001b[0m\n\u001b[0;32m--> 777\u001b[0;31m             \u001b[0mjob\u001b[0m \u001b[0;34m=\u001b[0m \u001b[0mself\u001b[0m\u001b[0;34m.\u001b[0m\u001b[0m_backend\u001b[0m\u001b[0;34m.\u001b[0m\u001b[0mapply_async\u001b[0m\u001b[0;34m(\u001b[0m\u001b[0mbatch\u001b[0m\u001b[0;34m,\u001b[0m \u001b[0mcallback\u001b[0m\u001b[0;34m=\u001b[0m\u001b[0mcb\u001b[0m\u001b[0;34m)\u001b[0m\u001b[0;34m\u001b[0m\u001b[0;34m\u001b[0m\u001b[0m\n\u001b[0m\u001b[1;32m    778\u001b[0m             \u001b[0;31m# A job can complete so quickly than its callback is\u001b[0m\u001b[0;34m\u001b[0m\u001b[0;34m\u001b[0m\u001b[0;34m\u001b[0m\u001b[0m\n\u001b[1;32m    779\u001b[0m             \u001b[0;31m# called before we get here, causing self._jobs to\u001b[0m\u001b[0;34m\u001b[0m\u001b[0;34m\u001b[0m\u001b[0;34m\u001b[0m\u001b[0m\n",
            "\u001b[0;32m/usr/local/lib/python3.7/dist-packages/joblib/_parallel_backends.py\u001b[0m in \u001b[0;36mapply_async\u001b[0;34m(self, func, callback)\u001b[0m\n\u001b[1;32m    206\u001b[0m     \u001b[0;32mdef\u001b[0m \u001b[0mapply_async\u001b[0m\u001b[0;34m(\u001b[0m\u001b[0mself\u001b[0m\u001b[0;34m,\u001b[0m \u001b[0mfunc\u001b[0m\u001b[0;34m,\u001b[0m \u001b[0mcallback\u001b[0m\u001b[0;34m=\u001b[0m\u001b[0;32mNone\u001b[0m\u001b[0;34m)\u001b[0m\u001b[0;34m:\u001b[0m\u001b[0;34m\u001b[0m\u001b[0;34m\u001b[0m\u001b[0m\n\u001b[1;32m    207\u001b[0m         \u001b[0;34m\"\"\"Schedule a func to be run\"\"\"\u001b[0m\u001b[0;34m\u001b[0m\u001b[0;34m\u001b[0m\u001b[0m\n\u001b[0;32m--> 208\u001b[0;31m         \u001b[0mresult\u001b[0m \u001b[0;34m=\u001b[0m \u001b[0mImmediateResult\u001b[0m\u001b[0;34m(\u001b[0m\u001b[0mfunc\u001b[0m\u001b[0;34m)\u001b[0m\u001b[0;34m\u001b[0m\u001b[0;34m\u001b[0m\u001b[0m\n\u001b[0m\u001b[1;32m    209\u001b[0m         \u001b[0;32mif\u001b[0m \u001b[0mcallback\u001b[0m\u001b[0;34m:\u001b[0m\u001b[0;34m\u001b[0m\u001b[0;34m\u001b[0m\u001b[0m\n\u001b[1;32m    210\u001b[0m             \u001b[0mcallback\u001b[0m\u001b[0;34m(\u001b[0m\u001b[0mresult\u001b[0m\u001b[0;34m)\u001b[0m\u001b[0;34m\u001b[0m\u001b[0;34m\u001b[0m\u001b[0m\n",
            "\u001b[0;32m/usr/local/lib/python3.7/dist-packages/joblib/_parallel_backends.py\u001b[0m in \u001b[0;36m__init__\u001b[0;34m(self, batch)\u001b[0m\n\u001b[1;32m    570\u001b[0m         \u001b[0;31m# Don't delay the application, to avoid keeping the input\u001b[0m\u001b[0;34m\u001b[0m\u001b[0;34m\u001b[0m\u001b[0;34m\u001b[0m\u001b[0m\n\u001b[1;32m    571\u001b[0m         \u001b[0;31m# arguments in memory\u001b[0m\u001b[0;34m\u001b[0m\u001b[0;34m\u001b[0m\u001b[0;34m\u001b[0m\u001b[0m\n\u001b[0;32m--> 572\u001b[0;31m         \u001b[0mself\u001b[0m\u001b[0;34m.\u001b[0m\u001b[0mresults\u001b[0m \u001b[0;34m=\u001b[0m \u001b[0mbatch\u001b[0m\u001b[0;34m(\u001b[0m\u001b[0;34m)\u001b[0m\u001b[0;34m\u001b[0m\u001b[0;34m\u001b[0m\u001b[0m\n\u001b[0m\u001b[1;32m    573\u001b[0m \u001b[0;34m\u001b[0m\u001b[0m\n\u001b[1;32m    574\u001b[0m     \u001b[0;32mdef\u001b[0m \u001b[0mget\u001b[0m\u001b[0;34m(\u001b[0m\u001b[0mself\u001b[0m\u001b[0;34m)\u001b[0m\u001b[0;34m:\u001b[0m\u001b[0;34m\u001b[0m\u001b[0;34m\u001b[0m\u001b[0m\n",
            "\u001b[0;32m/usr/local/lib/python3.7/dist-packages/joblib/parallel.py\u001b[0m in \u001b[0;36m__call__\u001b[0;34m(self)\u001b[0m\n\u001b[1;32m    261\u001b[0m         \u001b[0;32mwith\u001b[0m \u001b[0mparallel_backend\u001b[0m\u001b[0;34m(\u001b[0m\u001b[0mself\u001b[0m\u001b[0;34m.\u001b[0m\u001b[0m_backend\u001b[0m\u001b[0;34m,\u001b[0m \u001b[0mn_jobs\u001b[0m\u001b[0;34m=\u001b[0m\u001b[0mself\u001b[0m\u001b[0;34m.\u001b[0m\u001b[0m_n_jobs\u001b[0m\u001b[0;34m)\u001b[0m\u001b[0;34m:\u001b[0m\u001b[0;34m\u001b[0m\u001b[0;34m\u001b[0m\u001b[0m\n\u001b[1;32m    262\u001b[0m             return [func(*args, **kwargs)\n\u001b[0;32m--> 263\u001b[0;31m                     for func, args, kwargs in self.items]\n\u001b[0m\u001b[1;32m    264\u001b[0m \u001b[0;34m\u001b[0m\u001b[0m\n\u001b[1;32m    265\u001b[0m     \u001b[0;32mdef\u001b[0m \u001b[0m__reduce__\u001b[0m\u001b[0;34m(\u001b[0m\u001b[0mself\u001b[0m\u001b[0;34m)\u001b[0m\u001b[0;34m:\u001b[0m\u001b[0;34m\u001b[0m\u001b[0;34m\u001b[0m\u001b[0m\n",
            "\u001b[0;32m/usr/local/lib/python3.7/dist-packages/joblib/parallel.py\u001b[0m in \u001b[0;36m<listcomp>\u001b[0;34m(.0)\u001b[0m\n\u001b[1;32m    261\u001b[0m         \u001b[0;32mwith\u001b[0m \u001b[0mparallel_backend\u001b[0m\u001b[0;34m(\u001b[0m\u001b[0mself\u001b[0m\u001b[0;34m.\u001b[0m\u001b[0m_backend\u001b[0m\u001b[0;34m,\u001b[0m \u001b[0mn_jobs\u001b[0m\u001b[0;34m=\u001b[0m\u001b[0mself\u001b[0m\u001b[0;34m.\u001b[0m\u001b[0m_n_jobs\u001b[0m\u001b[0;34m)\u001b[0m\u001b[0;34m:\u001b[0m\u001b[0;34m\u001b[0m\u001b[0;34m\u001b[0m\u001b[0m\n\u001b[1;32m    262\u001b[0m             return [func(*args, **kwargs)\n\u001b[0;32m--> 263\u001b[0;31m                     for func, args, kwargs in self.items]\n\u001b[0m\u001b[1;32m    264\u001b[0m \u001b[0;34m\u001b[0m\u001b[0m\n\u001b[1;32m    265\u001b[0m     \u001b[0;32mdef\u001b[0m \u001b[0m__reduce__\u001b[0m\u001b[0;34m(\u001b[0m\u001b[0mself\u001b[0m\u001b[0;34m)\u001b[0m\u001b[0;34m:\u001b[0m\u001b[0;34m\u001b[0m\u001b[0;34m\u001b[0m\u001b[0m\n",
            "\u001b[0;32m/usr/local/lib/python3.7/dist-packages/sklearn/ensemble/_forest.py\u001b[0m in \u001b[0;36m_parallel_build_trees\u001b[0;34m(tree, forest, X, y, sample_weight, tree_idx, n_trees, verbose, class_weight, n_samples_bootstrap)\u001b[0m\n\u001b[1;32m    152\u001b[0m \u001b[0;34m\u001b[0m\u001b[0m\n\u001b[1;32m    153\u001b[0m         indices = _generate_sample_indices(tree.random_state, n_samples,\n\u001b[0;32m--> 154\u001b[0;31m                                            n_samples_bootstrap)\n\u001b[0m\u001b[1;32m    155\u001b[0m         \u001b[0msample_counts\u001b[0m \u001b[0;34m=\u001b[0m \u001b[0mnp\u001b[0m\u001b[0;34m.\u001b[0m\u001b[0mbincount\u001b[0m\u001b[0;34m(\u001b[0m\u001b[0mindices\u001b[0m\u001b[0;34m,\u001b[0m \u001b[0mminlength\u001b[0m\u001b[0;34m=\u001b[0m\u001b[0mn_samples\u001b[0m\u001b[0;34m)\u001b[0m\u001b[0;34m\u001b[0m\u001b[0;34m\u001b[0m\u001b[0m\n\u001b[1;32m    156\u001b[0m         \u001b[0mcurr_sample_weight\u001b[0m \u001b[0;34m*=\u001b[0m \u001b[0msample_counts\u001b[0m\u001b[0;34m\u001b[0m\u001b[0;34m\u001b[0m\u001b[0m\n",
            "\u001b[0;32m/usr/local/lib/python3.7/dist-packages/sklearn/ensemble/_forest.py\u001b[0m in \u001b[0;36m_generate_sample_indices\u001b[0;34m(random_state, n_samples, n_samples_bootstrap)\u001b[0m\n\u001b[1;32m    117\u001b[0m     Private function used to _parallel_build_trees function.\"\"\"\n\u001b[1;32m    118\u001b[0m \u001b[0;34m\u001b[0m\u001b[0m\n\u001b[0;32m--> 119\u001b[0;31m     \u001b[0mrandom_instance\u001b[0m \u001b[0;34m=\u001b[0m \u001b[0mcheck_random_state\u001b[0m\u001b[0;34m(\u001b[0m\u001b[0mrandom_state\u001b[0m\u001b[0;34m)\u001b[0m\u001b[0;34m\u001b[0m\u001b[0;34m\u001b[0m\u001b[0m\n\u001b[0m\u001b[1;32m    120\u001b[0m     \u001b[0msample_indices\u001b[0m \u001b[0;34m=\u001b[0m \u001b[0mrandom_instance\u001b[0m\u001b[0;34m.\u001b[0m\u001b[0mrandint\u001b[0m\u001b[0;34m(\u001b[0m\u001b[0;36m0\u001b[0m\u001b[0;34m,\u001b[0m \u001b[0mn_samples\u001b[0m\u001b[0;34m,\u001b[0m \u001b[0mn_samples_bootstrap\u001b[0m\u001b[0;34m)\u001b[0m\u001b[0;34m\u001b[0m\u001b[0;34m\u001b[0m\u001b[0m\n\u001b[1;32m    121\u001b[0m \u001b[0;34m\u001b[0m\u001b[0m\n",
            "\u001b[0;32m/usr/local/lib/python3.7/dist-packages/sklearn/utils/validation.py\u001b[0m in \u001b[0;36mcheck_random_state\u001b[0;34m(seed)\u001b[0m\n\u001b[1;32m    812\u001b[0m         \u001b[0;32mreturn\u001b[0m \u001b[0mnp\u001b[0m\u001b[0;34m.\u001b[0m\u001b[0mrandom\u001b[0m\u001b[0;34m.\u001b[0m\u001b[0mmtrand\u001b[0m\u001b[0;34m.\u001b[0m\u001b[0m_rand\u001b[0m\u001b[0;34m\u001b[0m\u001b[0;34m\u001b[0m\u001b[0m\n\u001b[1;32m    813\u001b[0m     \u001b[0;32mif\u001b[0m \u001b[0misinstance\u001b[0m\u001b[0;34m(\u001b[0m\u001b[0mseed\u001b[0m\u001b[0;34m,\u001b[0m \u001b[0mnumbers\u001b[0m\u001b[0;34m.\u001b[0m\u001b[0mIntegral\u001b[0m\u001b[0;34m)\u001b[0m\u001b[0;34m:\u001b[0m\u001b[0;34m\u001b[0m\u001b[0;34m\u001b[0m\u001b[0m\n\u001b[0;32m--> 814\u001b[0;31m         \u001b[0;32mreturn\u001b[0m \u001b[0mnp\u001b[0m\u001b[0;34m.\u001b[0m\u001b[0mrandom\u001b[0m\u001b[0;34m.\u001b[0m\u001b[0mRandomState\u001b[0m\u001b[0;34m(\u001b[0m\u001b[0mseed\u001b[0m\u001b[0;34m)\u001b[0m\u001b[0;34m\u001b[0m\u001b[0;34m\u001b[0m\u001b[0m\n\u001b[0m\u001b[1;32m    815\u001b[0m     \u001b[0;32mif\u001b[0m \u001b[0misinstance\u001b[0m\u001b[0;34m(\u001b[0m\u001b[0mseed\u001b[0m\u001b[0;34m,\u001b[0m \u001b[0mnp\u001b[0m\u001b[0;34m.\u001b[0m\u001b[0mrandom\u001b[0m\u001b[0;34m.\u001b[0m\u001b[0mRandomState\u001b[0m\u001b[0;34m)\u001b[0m\u001b[0;34m:\u001b[0m\u001b[0;34m\u001b[0m\u001b[0;34m\u001b[0m\u001b[0m\n\u001b[1;32m    816\u001b[0m         \u001b[0;32mreturn\u001b[0m \u001b[0mseed\u001b[0m\u001b[0;34m\u001b[0m\u001b[0;34m\u001b[0m\u001b[0m\n",
            "\u001b[0;32mmtrand.pyx\u001b[0m in \u001b[0;36mnumpy.random.mtrand.RandomState.__init__\u001b[0;34m()\u001b[0m\n",
            "\u001b[0;32m_mt19937.pyx\u001b[0m in \u001b[0;36mnumpy.random._mt19937.MT19937.__init__\u001b[0;34m()\u001b[0m\n",
            "\u001b[0;32m/usr/lib/python3.7/contextlib.py\u001b[0m in \u001b[0;36minner\u001b[0;34m(*args, **kwds)\u001b[0m\n\u001b[1;32m     72\u001b[0m         \u001b[0;32mdef\u001b[0m \u001b[0minner\u001b[0m\u001b[0;34m(\u001b[0m\u001b[0;34m*\u001b[0m\u001b[0margs\u001b[0m\u001b[0;34m,\u001b[0m \u001b[0;34m**\u001b[0m\u001b[0mkwds\u001b[0m\u001b[0;34m)\u001b[0m\u001b[0;34m:\u001b[0m\u001b[0;34m\u001b[0m\u001b[0;34m\u001b[0m\u001b[0m\n\u001b[1;32m     73\u001b[0m             \u001b[0;32mwith\u001b[0m \u001b[0mself\u001b[0m\u001b[0;34m.\u001b[0m\u001b[0m_recreate_cm\u001b[0m\u001b[0;34m(\u001b[0m\u001b[0;34m)\u001b[0m\u001b[0;34m:\u001b[0m\u001b[0;34m\u001b[0m\u001b[0;34m\u001b[0m\u001b[0m\n\u001b[0;32m---> 74\u001b[0;31m                 \u001b[0;32mreturn\u001b[0m \u001b[0mfunc\u001b[0m\u001b[0;34m(\u001b[0m\u001b[0;34m*\u001b[0m\u001b[0margs\u001b[0m\u001b[0;34m,\u001b[0m \u001b[0;34m**\u001b[0m\u001b[0mkwds\u001b[0m\u001b[0;34m)\u001b[0m\u001b[0;34m\u001b[0m\u001b[0;34m\u001b[0m\u001b[0m\n\u001b[0m\u001b[1;32m     75\u001b[0m         \u001b[0;32mreturn\u001b[0m \u001b[0minner\u001b[0m\u001b[0;34m\u001b[0m\u001b[0;34m\u001b[0m\u001b[0m\n\u001b[1;32m     76\u001b[0m \u001b[0;34m\u001b[0m\u001b[0m\n",
            "\u001b[0;31mKeyboardInterrupt\u001b[0m: "
          ]
        }
      ],
      "source": [
        "numtrees = [100,200,300,400,500,1000]\n",
        "totalScoreOfTrees = [[],[],[],[],[],[]]\n",
        "\n",
        "#This will take about 6 minutes and 30s\n",
        "for i in range(101):\n",
        "  for num in numtrees:\n",
        "    forestDepth = RandomForestClassifier(max_depth=4, oob_score=True, n_estimators=num)\n",
        "    forestDepth.fit(X2,Y2)\n",
        "    totalScoreOfTrees[numtrees.index(num)].append(forestDepth.oob_score_)"
      ]
    },
    {
      "cell_type": "code",
      "execution_count": null,
      "metadata": {
        "colab": {
          "base_uri": "https://localhost:8080/"
        },
        "id": "4s-1VeKF6WR5",
        "outputId": "aeae6458-a9c2-44d1-d2cc-f9f6ec30c09f"
      },
      "outputs": [
        {
          "name": "stdout",
          "output_type": "stream",
          "text": [
            "Average OOB score of 100 trees: 0.9958745874587459\n",
            "Average OOB score of 200 trees: 0.9989273927392739\n",
            "Average OOB score of 300 trees: 0.9992161716171617\n",
            "Average OOB score of 400 trees: 0.9995874587458746\n",
            "Average OOB score of 500 trees: 0.9996287128712872\n",
            "Average OOB score of 1000 trees: 0.9999587458745874\n"
          ]
        }
      ],
      "source": [
        "averageScoreOfTrees = [0,0,0,0,0,0]\n",
        "for i in range(len(totalScoreOfTrees)):\n",
        "  averageScoreOfTrees[i] = mean(totalScoreOfTrees[i])\n",
        "  print(\"Average OOB score of {0} trees: {1}\".format(numtrees[i],averageScoreOfTrees[i]))"
      ]
    },
    {
      "cell_type": "markdown",
      "metadata": {
        "id": "1zaQ-DbU6XGj"
      },
      "source": [
        "We get very small increases in OOB score for larger than 100 trees. In the end a random forest with max_depth=4 and 300 trees is about 99% accurate."
      ]
    },
    {
      "cell_type": "code",
      "execution_count": null,
      "metadata": {
        "colab": {
          "base_uri": "https://localhost:8080/",
          "height": 924
        },
        "id": "ZfCGUUrR709V",
        "outputId": "3d0dbc9b-eeb2-47dd-bebc-47ff474509a1"
      },
      "outputs": [
        {
          "name": "stdout",
          "output_type": "stream",
          "text": [
            "Out of Bag score:  1.0\n",
            "Confusion Matrix:\n",
            " AxesSubplot(0.125,0.125;0.62x0.755)\n",
            "Decision Boundary\n"
          ]
        },
        {
          "name": "stderr",
          "output_type": "stream",
          "text": [
            "/usr/local/lib/python3.7/dist-packages/mlxtend/plotting/decision_regions.py:244: MatplotlibDeprecationWarning: Passing unsupported keyword arguments to axis() will raise a TypeError in 3.3.\n",
            "  ax.axis(xmin=xx.min(), xmax=xx.max(), y_min=yy.min(), y_max=yy.max())\n"
          ]
        },
        {
          "data": {
            "image/png": "[encoded data removed]",
            "text/plain": [
              "<Figure size 432x288 with 2 Axes>"
            ]
          },
          "metadata": {
            "tags": []
          },
          "output_type": "display_data"
        },
        {
          "data": {
            "image/png": "[encoded data removed]",
            "text/plain": [
              "<Figure size 720x576 with 1 Axes>"
            ]
          },
          "metadata": {
            "tags": []
          },
          "output_type": "display_data"
        }
      ],
      "source": [
        "bestModelHR = RandomForestClassifier(max_depth=4,n_estimators=300,oob_score=True)\n",
        "\n",
        "bestModelHR.fit(X2,Y2)\n",
        "print(\"Out of Bag score: \",bestModelHR.oob_score_)\n",
        "\n",
        "#There is no provided predictions list by the classifier so we must create our own to find metrics\n",
        "predictions= np.empty(shape=Y2.shape)\n",
        "observationCounter=0\n",
        "for observation in bestModelHR.oob_decision_function_:\n",
        "  #Predict that star is class of highest probability\n",
        "  #If a tie occurs the first class in the array wins\n",
        "  observation = observation.tolist()\n",
        "  predictions[observationCounter] = observation.index(max(observation))\n",
        "  observationCounter += 1\n",
        "\n",
        "#confusion matrx\n",
        "confusionMatrix = confusion_matrix(Y,predictions)\n",
        "seabornmap = sns.heatmap(confusionMatrix,annot=True,\n",
        "      xticklabels=['Brown Dwarf','Red Dwarf','White Dwarf','Main Sequence','Supergiant','Hypergiant'],\n",
        "      yticklabels=['Brown Dwarf','Red Dwarf','White Dwarf','Main Sequence','Supergiant','Hypergiant'])\n",
        "print(\"Confusion Matrix:\\n\",seabornmap)\n",
        "\n",
        "print(\"Decision Boundary\")\n",
        "fig = plt.figure(figsize=(10,8))\n",
        "fig = plot_decision_regions(X=X2.to_numpy(), y=Y2.to_numpy(), clf=bestModelHR, legend=1)"
      ]
    },
    {
      "cell_type": "markdown",
      "metadata": {
        "id": "mQpCNgAakDK2"
      },
      "source": [
        "# Boosted Trees "
      ]
    },
    {
      "cell_type": "code",
      "execution_count": null,
      "metadata": {
        "id": "x8lAuvfvsOL0"
      },
      "outputs": [],
      "source": [
        "import pandas as pd\n",
        "import numpy as np\n",
        "from sklearn.model_selection import train_test_split\n",
        "from sklearn.ensemble import GradientBoostingClassifier"
      ]
    },
    {
      "cell_type": "code",
      "execution_count": null,
      "metadata": {
        "id": "lwREeLTzstyS"
      },
      "outputs": [],
      "source": [
        "stars_df = df.copy()\n",
        "stars_df.info()\n",
        "print(\"\\n\")\n",
        "stars_df.head()"
      ]
    },
    {
      "cell_type": "code",
      "execution_count": null,
      "metadata": {
        "id": "ltphq6LNygmV"
      },
      "outputs": [],
      "source": [
        "stars_df.isnull().sum()"
      ]
    },
    {
      "cell_type": "code",
      "execution_count": null,
      "metadata": {
        "id": "htu_FZW69nXk"
      },
      "outputs": [],
      "source": [
        "print(stars_df.shape)"
      ]
    },
    {
      "cell_type": "markdown",
      "metadata": {
        "id": "LN_iyJ-mHOZN"
      },
      "source": [
        "Preprossing Data using label encoding"
      ]
    },
    {
      "cell_type": "code",
      "execution_count": null,
      "metadata": {
        "id": "O5OuxkBsGGDW"
      },
      "outputs": [],
      "source": [
        "from sklearn import preprocessing \n",
        "\n",
        "# create dummy variables\n",
        "dummy_var = pd.get_dummies(stars_df[['Star color', 'Spectral Class']], dtype = int)\n",
        "stars_df.drop(columns = ['Star color', 'Spectral Class'], axis = 1, inplace = True)\n",
        "\n",
        "# Normalization of Data \n",
        "stars_df = (stars_df - stars_df.mean()) / (stars_df.max() - stars_df.min())\n",
        "\n",
        "#Add dummy variables to data frame \n",
        "stars_df = pd.concat([stars_df, dummy_var], axis = 1)"
      ]
    },
    {
      "cell_type": "code",
      "execution_count": null,
      "metadata": {
        "id": "ACIM5wQ_KM0H"
      },
      "outputs": [],
      "source": [
        "le = preprocessing.LabelEncoder()\n",
        "stars_df['Temperature (K)'] = le.fit_transform(stars_df['Temperature (K)'])\n",
        "stars_df['Luminosity(L/Lo)'] = le.fit_transform(stars_df['Luminosity(L/Lo)'])\n",
        "stars_df['Radius(R/Ro)'] = le.fit_transform(stars_df['Radius(R/Ro)'])\n",
        "stars_df['Absolute magnitude(Mv)'] = le.fit_transform(stars_df['Absolute magnitude(Mv)'])\n",
        "stars_df['Star type'] = le.fit_transform(stars_df['Star type'])"
      ]
    },
    {
      "cell_type": "code",
      "execution_count": null,
      "metadata": {
        "id": "jwP_gYFAN4-i"
      },
      "outputs": [],
      "source": [
        "stars_df.head()"
      ]
    },
    {
      "cell_type": "code",
      "execution_count": null,
      "metadata": {
        "id": "HWQ3mrwsdtRG"
      },
      "outputs": [],
      "source": [
        "X = stars_df.drop(['Star type'], axis = 1)\n",
        "y = stars_df['Star type']\n",
        "X_train, X_test, y_train, y_test = train_test_split(X, y, test_size = 0.2, random_state = 0)\n",
        "\n",
        "print(f\"Stars Data HR\")\n",
        "print(f\"X_train Shape: {X_train.shape}, y_train Shape : {y_train.shape}, X_test Shape : {X_test.shape}, y_test Shape : {y_test.shape}\")"
      ]
    },
    {
      "cell_type": "code",
      "execution_count": null,
      "metadata": {
        "id": "Tr4EiG9kfTfr"
      },
      "outputs": [],
      "source": [
        "from sklearn.metrics import confusion_matrix, plot_confusion_matrix\n",
        "import matplotlib.pyplot as plt\n",
        "import seaborn as sns\n",
        "import graphviz\n",
        "\n",
        "boosted_HR = GradientBoostingClassifier()\n",
        "boosted_HR.fit(X_train,y_train)\n",
        "\n",
        "y_hat_HR = boosted_HR.predict(X_test)\n",
        "\n",
        "print(\"Model Score: \", boosted_HR.score(X_test, y_test))\n",
        "\n",
        "fig, ax = plt.subplots(figsize=(10, 10))\n",
        "\n",
        "titles_options = [(\"Confusion Matrix HR\")]\n",
        "for title in titles_options:\n",
        "    disp = plot_confusion_matrix(boosted_HR, X_test, y_test,\n",
        "                                 display_labels = ['Brown Dwarf','Red Dwarf',\n",
        "                                                   'White Dwarf','Main Sequence',\n",
        "                                                   'Supergiant','Hypergiant'],\n",
        "                                 cmap=plt.cm.Blues,\n",
        "                                 ax = ax)\n",
        "    disp.ax_.set_title(title)\n",
        "plt.show()"
      ]
    },
    {
      "cell_type": "code",
      "execution_count": null,
      "metadata": {
        "id": "PB9VleISA_-v"
      },
      "outputs": [],
      "source": [
        "X2 = stars_df.drop(['Star type', 'Absolute magnitude(Mv)','Temperature (K)'], axis = 1)\n",
        "y2 = stars_df['Star type']\n",
        "X2_train, X2_test, y2_train, y2_test = train_test_split(X2, y2, test_size = 0.25, random_state = 0)\n",
        "\n",
        "print(f\"Stars Data w/o Absolute Magnitude and Temperature\")\n",
        "print(f\"X_train Shape: {X2_train.shape}, y_train Shape : {y2_train.shape}, X_test Shape : {X2_test.shape}, y_test Shape : {y2_test.shape}\")"
      ]
    },
    {
      "cell_type": "code",
      "execution_count": null,
      "metadata": {
        "id": "VPb1ECeZDna1"
      },
      "outputs": [],
      "source": [
        "stars100 = GradientBoostingClassifier(n_estimators = 100, learning_rate = 0.01,\n",
        "                                           max_depth = 2)\n",
        "stars100.fit(X2_train, y2_train)"
      ]
    },
    {
      "cell_type": "code",
      "execution_count": null,
      "metadata": {
        "id": "gEtveTd6_564"
      },
      "outputs": [],
      "source": [
        "stars250 = GradientBoostingClassifier(n_estimators = 250, learning_rate = 0.01,\n",
        "                                           max_depth = 5)\n",
        "stars250.fit(X2_train, y2_train)"
      ]
    },
    {
      "cell_type": "code",
      "execution_count": null,
      "metadata": {
        "id": "W6q52kdkA3K_"
      },
      "outputs": [],
      "source": [
        "stars500 = GradientBoostingClassifier(n_estimators = 500, learning_rate = 0.01,\n",
        "                                           max_depth = 10)\n",
        "stars500.fit(X2_train, y2_train)"
      ]
    },
    {
      "cell_type": "code",
      "execution_count": null,
      "metadata": {
        "id": "kPmReZjNq2it"
      },
      "outputs": [],
      "source": [
        "print(\"Model Score 100 : \", stars100.score(X2_test, y2_test))\n",
        "print(\"Model Score 250 : \", stars250.score(X2_test, y2_test))\n",
        "print(\"Model Score 500 : \", stars500.score(X2_test, y2_test))"
      ]
    },
    {
      "cell_type": "markdown",
      "metadata": {
        "id": "ONoMtJxAAUY6"
      },
      "source": [
        "Increasing the number of estimators and max depth actually hurts accuracy of the model"
      ]
    },
    {
      "cell_type": "code",
      "execution_count": null,
      "metadata": {
        "id": "UxDSKBZLk5rv"
      },
      "outputs": [],
      "source": [
        "y_hat_best = stars100.predict(X2_test)\n",
        "confusion_matrix100 = confusion_matrix(y2_test, y_hat_best)\n",
        "\n",
        "fig, ax = plt.subplots(figsize=(10, 10))\n",
        "\n",
        "titles_options = [(\"Confusion Matrix 100\")]\n",
        "for title in titles_options:\n",
        "    disp = plot_confusion_matrix(stars100, X2_test, y2_test,\n",
        "                                 display_labels = ['Brown Dwarf','Red Dwarf',\n",
        "                                                   'White Dwarf','Main Sequence',\n",
        "                                                   'Supergiant','Hypergiant'],\n",
        "                                 cmap = plt.cm.Blues,\n",
        "                                 ax = ax)\n",
        "    disp.ax_.set_title(title)\n",
        "plt.show()\n"
      ]
    },
    {
      "cell_type": "code",
      "execution_count": null,
      "metadata": {
        "id": "FimB8-bUdRVp"
      },
      "outputs": [],
      "source": [
        "feature_importance = stars100.feature_importances_*100\n",
        "\n",
        "rel_imp = pd.Series(feature_importance, \n",
        "                    index = X2.columns).sort_values(inplace = False) \n",
        "\n",
        "rel_imp.T.plot(kind = 'barh', \n",
        "               color = 'b', title = 'Boosted w/o (Mv) & (K)')\n",
        "\n",
        "plt.xlabel('Variable Importance')\n",
        "\n",
        "plt.gca().legend_ = None\n"
      ]
    },
    {
      "cell_type": "code",
      "execution_count": null,
      "metadata": {
        "id": "7NxVCW0WHuHb"
      },
      "outputs": [],
      "source": [
        "feature_importance = boosted_HR.feature_importances_*100\n",
        "\n",
        "rel_imp = pd.Series(feature_importance, \n",
        "                    index = X.columns).sort_values(inplace = False) \n",
        "\n",
        "rel_imp.T.plot(kind = 'barh', \n",
        "               color = 'r', title = 'HR Data')\n",
        "\n",
        "plt.xlabel('Variable Importance')\n",
        "\n",
        "plt.gca().legend_ = None\n"
      ]
    },
    {
      "cell_type": "code",
      "execution_count": null,
      "metadata": {
        "id": "AzryHVepMqqN"
      },
      "outputs": [],
      "source": [
        "from sklearn.metrics import classification_report\n",
        "\n",
        "print(\"Classification Report with HR \\n\", classification_report(y_test, y_hat_HR))\n",
        "print(\"Classification Report w/o (Mv) & (K) \\n\", classification_report(y2_test, y_hat_best))"
      ]
    },
    {
      "cell_type": "markdown",
      "metadata": {
        "id": "qTf_nWYp1GcP"
      },
      "source": [
        "# KNN"
      ]
    },
    {
      "cell_type": "markdown",
      "metadata": {
        "id": "R9eOHAqN1MPl"
      },
      "source": [
        "Preparing the data for KNN"
      ]
    },
    {
      "cell_type": "code",
      "execution_count": null,
      "metadata": {
        "colab": {
          "base_uri": "https://localhost:8080/",
          "height": 261
        },
        "id": "F8Chx0zF1Lje",
        "outputId": "e84f9c39-07e9-4a2d-a00b-73b060b9effa"
      },
      "outputs": [
        {
          "data": {
            "text/html": [
              "<div>\n",
              "<style scoped>\n",
              "    .dataframe tbody tr th:only-of-type {\n",
              "        vertical-align: middle;\n",
              "    }\n",
              "\n",
              "    .dataframe tbody tr th {\n",
              "        vertical-align: top;\n",
              "    }\n",
              "\n",
              "    .dataframe thead th {\n",
              "        text-align: right;\n",
              "    }\n",
              "</style>\n",
              "<table border=\"1\" class=\"dataframe\">\n",
              "  <thead>\n",
              "    <tr style=\"text-align: right;\">\n",
              "      <th></th>\n",
              "      <th>Temperature (K)</th>\n",
              "      <th>Luminosity(L/Lo)</th>\n",
              "      <th>Radius(R/Ro)</th>\n",
              "      <th>Star color_blue</th>\n",
              "      <th>Star color_blue-white</th>\n",
              "      <th>Star color_orange</th>\n",
              "      <th>Star color_orange-red</th>\n",
              "      <th>Star color_red</th>\n",
              "      <th>Star color_white</th>\n",
              "      <th>Star color_yellow</th>\n",
              "      <th>Star color_yellow-white</th>\n",
              "      <th>Spectral Class_A</th>\n",
              "      <th>Spectral Class_B</th>\n",
              "      <th>Spectral Class_F</th>\n",
              "      <th>Spectral Class_G</th>\n",
              "      <th>Spectral Class_K</th>\n",
              "      <th>Spectral Class_M</th>\n",
              "      <th>Spectral Class_O</th>\n",
              "    </tr>\n",
              "  </thead>\n",
              "  <tbody>\n",
              "    <tr>\n",
              "      <th>0</th>\n",
              "      <td>-0.195199</td>\n",
              "      <td>-0.12619</td>\n",
              "      <td>-0.121626</td>\n",
              "      <td>0</td>\n",
              "      <td>0</td>\n",
              "      <td>0</td>\n",
              "      <td>0</td>\n",
              "      <td>1</td>\n",
              "      <td>0</td>\n",
              "      <td>0</td>\n",
              "      <td>0</td>\n",
              "      <td>0</td>\n",
              "      <td>0</td>\n",
              "      <td>0</td>\n",
              "      <td>0</td>\n",
              "      <td>0</td>\n",
              "      <td>1</td>\n",
              "      <td>0</td>\n",
              "    </tr>\n",
              "    <tr>\n",
              "      <th>1</th>\n",
              "      <td>-0.195882</td>\n",
              "      <td>-0.12619</td>\n",
              "      <td>-0.121634</td>\n",
              "      <td>0</td>\n",
              "      <td>0</td>\n",
              "      <td>0</td>\n",
              "      <td>0</td>\n",
              "      <td>1</td>\n",
              "      <td>0</td>\n",
              "      <td>0</td>\n",
              "      <td>0</td>\n",
              "      <td>0</td>\n",
              "      <td>0</td>\n",
              "      <td>0</td>\n",
              "      <td>0</td>\n",
              "      <td>0</td>\n",
              "      <td>1</td>\n",
              "      <td>0</td>\n",
              "    </tr>\n",
              "    <tr>\n",
              "      <th>2</th>\n",
              "      <td>-0.207495</td>\n",
              "      <td>-0.12619</td>\n",
              "      <td>-0.121661</td>\n",
              "      <td>0</td>\n",
              "      <td>0</td>\n",
              "      <td>0</td>\n",
              "      <td>0</td>\n",
              "      <td>1</td>\n",
              "      <td>0</td>\n",
              "      <td>0</td>\n",
              "      <td>0</td>\n",
              "      <td>0</td>\n",
              "      <td>0</td>\n",
              "      <td>0</td>\n",
              "      <td>0</td>\n",
              "      <td>0</td>\n",
              "      <td>1</td>\n",
              "      <td>0</td>\n",
              "    </tr>\n",
              "    <tr>\n",
              "      <th>3</th>\n",
              "      <td>-0.202240</td>\n",
              "      <td>-0.12619</td>\n",
              "      <td>-0.121631</td>\n",
              "      <td>0</td>\n",
              "      <td>0</td>\n",
              "      <td>0</td>\n",
              "      <td>0</td>\n",
              "      <td>1</td>\n",
              "      <td>0</td>\n",
              "      <td>0</td>\n",
              "      <td>0</td>\n",
              "      <td>0</td>\n",
              "      <td>0</td>\n",
              "      <td>0</td>\n",
              "      <td>0</td>\n",
              "      <td>0</td>\n",
              "      <td>1</td>\n",
              "      <td>0</td>\n",
              "    </tr>\n",
              "    <tr>\n",
              "      <th>4</th>\n",
              "      <td>-0.224862</td>\n",
              "      <td>-0.12619</td>\n",
              "      <td>-0.121661</td>\n",
              "      <td>0</td>\n",
              "      <td>0</td>\n",
              "      <td>0</td>\n",
              "      <td>0</td>\n",
              "      <td>1</td>\n",
              "      <td>0</td>\n",
              "      <td>0</td>\n",
              "      <td>0</td>\n",
              "      <td>0</td>\n",
              "      <td>0</td>\n",
              "      <td>0</td>\n",
              "      <td>0</td>\n",
              "      <td>0</td>\n",
              "      <td>1</td>\n",
              "      <td>0</td>\n",
              "    </tr>\n",
              "  </tbody>\n",
              "</table>\n",
              "</div>"
            ],
            "text/plain": [
              "   Temperature (K)  Luminosity(L/Lo)  ...  Spectral Class_M  Spectral Class_O\n",
              "0        -0.195199          -0.12619  ...                 1                 0\n",
              "1        -0.195882          -0.12619  ...                 1                 0\n",
              "2        -0.207495          -0.12619  ...                 1                 0\n",
              "3        -0.202240          -0.12619  ...                 1                 0\n",
              "4        -0.224862          -0.12619  ...                 1                 0\n",
              "\n",
              "[5 rows x 18 columns]"
            ]
          },
          "execution_count": 4,
          "metadata": {
            "tags": []
          },
          "output_type": "execute_result"
        }
      ],
      "source": [
        "from sklearn import preprocessing\n",
        "x = df.copy()\n",
        "\n",
        "# Create a column containing our target variable\n",
        "y = x['Star type'].values\n",
        "\n",
        "# Remove Star type column from x\n",
        "x.drop(columns=['Star type'], inplace=True)\n",
        "\n",
        "\n",
        "# Create dummy variables\n",
        "dummies = pd.get_dummies(x[['Star color', 'Spectral Class']])\n",
        "x.drop(columns=['Star color', 'Spectral Class'], axis=1, inplace=True)\n",
        "\n",
        "# Normalize x\n",
        "x = (x - x.mean()) / (x.max() - x.min())\n",
        "\n",
        "# Add dummy variables\n",
        "x = pd.concat([x, dummies], axis=1)\n",
        "\n",
        "x.head()\n",
        "\n",
        "# Data with no temp\n",
        "Notemp = x.drop(columns=['Temperature (K)'])\n",
        "Nomag = x.drop(columns=['Absolute magnitude(Mv)'])\n",
        "Nomag.head()"
      ]
    },
    {
      "cell_type": "markdown",
      "metadata": {
        "id": "BbWhv3kO6GMY"
      },
      "source": [
        "Let's find the best subset of predictors"
      ]
    },
    {
      "cell_type": "code",
      "execution_count": null,
      "metadata": {
        "id": "PCiym_zA6IOk"
      },
      "outputs": [],
      "source": [
        "from sklearn.neighbors import KNeighborsClassifier\n",
        "from sklearn.model_selection import GridSearchCV\n",
        "import time\n",
        "import itertools\n",
        "\n",
        "def processSubsetKNN(feature_set, x, y):\n",
        "  model = KNeighborsClassifier()\n",
        "  parameters = [{'n_neighbors': [1,2,3,4,5],\n",
        "                 'metric': ['euclidean', 'manhattan','chebyshev','minkowski']}]\n",
        "  # Use grid seach cross validation to find the best paramets for the model\n",
        "  model = GridSearchCV(model, parameters, cv=10, scoring='accuracy')\n",
        "  model.fit(x[list(feature_set)].values, y)\n",
        "  return {'model':model.best_params_, 'score':model.best_score_, 'combo': feature_set, 'fitted_model':model.best_estimator_}"
      ]
    },
    {
      "cell_type": "code",
      "execution_count": null,
      "metadata": {
        "id": "TA9HpjkgGau2"
      },
      "outputs": [],
      "source": [
        "# Get the best subset of 2 predictors without temperature\n",
        "results = []\n",
        "\n",
        "for combo in itertools.combinations(Notemp.columns, 2):\n",
        "  results.append(processSubsetKNN(combo, Notemp, y))\n",
        "\n",
        "models = pd.DataFrame(results)\n",
        "best_model = models.loc[models['score'].idxmax()]\n",
        "\n",
        "# Dataframe to hold all best models\n",
        "df_model = pd.DataFrame([best_model])"
      ]
    },
    {
      "cell_type": "code",
      "execution_count": null,
      "metadata": {
        "id": "fG3AB8rCGiXP"
      },
      "outputs": [],
      "source": [
        "# Get the best subset of 2 predictors without Magnitude\n",
        "results = []\n",
        "\n",
        "for combo in itertools.combinations(Nomag.columns, 2):\n",
        "  results.append(processSubsetKNN(combo, Nomag, y))\n",
        "\n",
        "models = pd.DataFrame(results)\n",
        "best_model = models.loc[models['score'].idxmax()]\n",
        "\n",
        "df_model = df_model.append(best_model)"
      ]
    },
    {
      "cell_type": "code",
      "execution_count": null,
      "metadata": {
        "colab": {
          "base_uri": "https://localhost:8080/",
          "height": 143
        },
        "id": "Dk6YGyjOGi_8",
        "outputId": "2a342915-1006-4288-f9ab-23d6c76f2231"
      },
      "outputs": [
        {
          "data": {
            "text/html": [
              "<div>\n",
              "<style scoped>\n",
              "    .dataframe tbody tr th:only-of-type {\n",
              "        vertical-align: middle;\n",
              "    }\n",
              "\n",
              "    .dataframe tbody tr th {\n",
              "        vertical-align: top;\n",
              "    }\n",
              "\n",
              "    .dataframe thead th {\n",
              "        text-align: right;\n",
              "    }\n",
              "</style>\n",
              "<table border=\"1\" class=\"dataframe\">\n",
              "  <thead>\n",
              "    <tr style=\"text-align: right;\">\n",
              "      <th></th>\n",
              "      <th>model</th>\n",
              "      <th>score</th>\n",
              "      <th>combo</th>\n",
              "      <th>fitted_model</th>\n",
              "    </tr>\n",
              "  </thead>\n",
              "  <tbody>\n",
              "    <tr>\n",
              "      <th>0</th>\n",
              "      <td>{'metric': 'euclidean', 'n_neighbors': 1}</td>\n",
              "      <td>0.995833</td>\n",
              "      <td>(Absolute magnitude(Mv), Star color_red)</td>\n",
              "      <td>KNeighborsClassifier(algorithm='auto', leaf_si...</td>\n",
              "    </tr>\n",
              "    <tr>\n",
              "      <th>1</th>\n",
              "      <td>{'metric': 'euclidean', 'n_neighbors': 1}</td>\n",
              "      <td>0.958333</td>\n",
              "      <td>(Radius(R/Ro), Spectral Class_K)</td>\n",
              "      <td>KNeighborsClassifier(algorithm='auto', leaf_si...</td>\n",
              "    </tr>\n",
              "    <tr>\n",
              "      <th>2</th>\n",
              "      <td>{'metric': 'manhattan', 'n_neighbors': 1}</td>\n",
              "      <td>0.954167</td>\n",
              "      <td>(Temperature (K), Absolute magnitude(Mv))</td>\n",
              "      <td>KNeighborsClassifier(algorithm='auto', leaf_si...</td>\n",
              "    </tr>\n",
              "  </tbody>\n",
              "</table>\n",
              "</div>"
            ],
            "text/plain": [
              "                                       model  ...                                       fitted_model\n",
              "0  {'metric': 'euclidean', 'n_neighbors': 1}  ...  KNeighborsClassifier(algorithm='auto', leaf_si...\n",
              "1  {'metric': 'euclidean', 'n_neighbors': 1}  ...  KNeighborsClassifier(algorithm='auto', leaf_si...\n",
              "2  {'metric': 'manhattan', 'n_neighbors': 1}  ...  KNeighborsClassifier(algorithm='auto', leaf_si...\n",
              "\n",
              "[3 rows x 4 columns]"
            ]
          },
          "execution_count": 8,
          "metadata": {
            "tags": []
          },
          "output_type": "execute_result"
        }
      ],
      "source": [
        "# Lets find out the best parameters for the KNN built using the HR-features\n",
        "\n",
        "best_HR = processSubsetKNN(('Temperature (K)', 'Absolute magnitude(Mv)'), x, y)\n",
        "\n",
        "best_HR = pd.Series(best_HR)\n",
        "df_model = df_model.append(best_HR, ignore_index=True)\n",
        "\n",
        "# All best generated models\n",
        "df_model.head()"
      ]
    },
    {
      "cell_type": "code",
      "execution_count": null,
      "metadata": {
        "id": "l64KtC-1Gnhh"
      },
      "outputs": [],
      "source": [
        "import matplotlib.pyplot as plt\n",
        "import numpy as np\n",
        "\n",
        "def plot(model, features, y, ax, h=0.02, pad=0.25):\n",
        "  X = x[list(features)].values\n",
        "  x_min, x_max = X[:, 0].min()-pad, X[:, 0].max()+pad\n",
        "  y_min, y_max = X[:, 1].min()-pad, X[:, 1].max()+pad\n",
        "  xx, yy = np.meshgrid(np.arange(x_min, x_max, h), np.arange(y_min, y_max, h))\n",
        "  z = model.predict(np.c_[xx.ravel(), yy.ravel()])\n",
        "  z = z.reshape(xx.shape)\n",
        "\n",
        "  ax.contourf(xx, yy, z, cmap=plt.cm.Accent, alpha=0.2)\n",
        "\n",
        "  ax.scatter(X[:,0], X[:,1], c=y, cmap=plt.cm.Accent)\n",
        "  ax.set_xlabel(features[0])\n",
        "  ax.set_ylabel(features[1])"
      ]
    },
    {
      "cell_type": "code",
      "execution_count": null,
      "metadata": {
        "colab": {
          "base_uri": "https://localhost:8080/",
          "height": 442
        },
        "id": "Zjk3nXhFGpb-",
        "outputId": "3cac7adc-18cb-4c1a-f3fb-949df6307c38"
      },
      "outputs": [
        {
          "data": {
            "image/png": "[encoded data removed]",
            "text/plain": [
              "<Figure size 1008x504 with 3 Axes>"
            ]
          },
          "metadata": {
            "needs_background": "light",
            "tags": []
          },
          "output_type": "display_data"
        }
      ],
      "source": [
        "from sklearn.model_selection import cross_val_predict\n",
        "\n",
        "\n",
        "# HR KNN model (Temperature (K), Absolute magnitude(Mv))\n",
        "HR_knn = df_model['fitted_model'].iloc[2]\n",
        "\n",
        "# best model without temperature (Absolute magnitude(Mv), Star color_red)\n",
        "notemp_knn = df_model['fitted_model'].iloc[0]\n",
        "\n",
        "# best model without magnitude (Radius(R/Ro), Spectral Class_K)\n",
        "nomag_knn = df_model['fitted_model'].iloc[1]\n",
        "\n",
        "fig, (ax1, ax2, ax3) = plt.subplots(1, 3)\n",
        "\n",
        "fig.set_size_inches(14, 7)\n",
        "\n",
        "# plot HR model\n",
        "plot(HR_knn, ['Temperature (K)', 'Absolute magnitude(Mv)'], y, ax1)\n",
        "\n",
        "# plot the best model without temperature\n",
        "plot(notemp_knn, ['Absolute magnitude(Mv)', 'Star color_red'], y, ax2)\n",
        "\n",
        "# plot the best model without mangitude\n",
        "plot(nomag_knn, ['Radius(R/Ro)', 'Spectral Class_K'], y, ax3)"
      ]
    }
  ],
  "metadata": {
    "colab": {
      "collapsed_sections": [
        "xzu3z1W91oHx",
        "I5o3-sz_5Oio"
      ],
      "name": "project10.ipynb",
      "provenance": []
    },
    "kernelspec": {
      "display_name": "Python 3",
      "name": "python3"
    },
    "language_info": {
      "name": "python"
    }
  },
  "nbformat": 4,
  "nbformat_minor": 0
}
